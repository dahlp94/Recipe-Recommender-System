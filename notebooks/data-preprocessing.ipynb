{
 "cells": [
  {
   "cell_type": "markdown",
   "id": "ae156977-fc59-4f8b-919f-2d6252aea4fd",
   "metadata": {},
   "source": [
    "# Recipe Recommendation System: Data Preparation and Initial EDA\n",
    "\n",
    "This project aims to build a personalized recipe recommendation system using the `Food.com Recipes and Interactions` dataset from Kaggle. The dataset contains detailed information about recipes, including ingredients, nutritional values, and user ratings. \n",
    "\n",
    "This notebook focuses on the first step in the pipeline: preparing and exploring the data. It is the foundation for creating clean and feature-rich datasets to be used in subsequent analysis and modeling. This is the first of multiple notebooks in the project.\n",
    "\n",
    "### Objectives:\n",
    "1. Preprocess and clean the dataset.\n",
    "2. Handle outliers and convert data to appropriate formats.\n",
    "3. Perform initial exploratory data analysis (EDA).\n",
    "4. Generate a cleaned dataset and an additional feature-enriched dataset for further analysis.\n",
    "\n",
    "### Outline:\n",
    "- Importing libraries and loading the dataset.\n",
    "- Cleaning and preprocessing the data:\n",
    "  - Handling outliers.\n",
    "  - Converting object data types to appropriate formats.\n",
    "  - Adding new features from existing columns.\n",
    "- Conducting initial exploratory data analysis (EDA).\n",
    "- Generating and saving two datasets:\n",
    "  - A cleaned version of the original dataset.\n",
    "  - A feature-enriched dataset for use in subsequent analysis and modeling.\n"
   ]
  },
  {
   "cell_type": "code",
   "execution_count": 39,
   "id": "ffc91fa2-e5fd-40f3-a520-5b53420cad4d",
   "metadata": {},
   "outputs": [],
   "source": [
    "# import the necessary libraries\n",
    "import pandas as pd\n",
    "import ast"
   ]
  },
  {
   "cell_type": "code",
   "execution_count": 40,
   "id": "40ebc80d-e502-41b4-95ec-1c4805ba7a6e",
   "metadata": {},
   "outputs": [],
   "source": [
    "# load the dataset into memory\n",
    "recipe_df = pd.read_csv(\"C:/Users/pd006/Desktop/internship_search/machine_learning/Recipe-Recommender-System/data/RAW_recipes.csv\")\n",
    "users_df = pd.read_csv(\"C:/Users/pd006/Desktop/internship_search/machine_learning/Recipe-Recommender-System/data/RAW_interactions.csv\")"
   ]
  },
  {
   "cell_type": "markdown",
   "id": "a5deff15-9b95-4e19-a95e-4f795b45f6d2",
   "metadata": {},
   "source": [
    "Let us start exploring the `recipe_df`"
   ]
  },
  {
   "cell_type": "code",
   "execution_count": 41,
   "id": "daf7dffe-fa5a-4662-bfaf-898490711b93",
   "metadata": {},
   "outputs": [
    {
     "data": {
      "text/html": [
       "<div>\n",
       "<style scoped>\n",
       "    .dataframe tbody tr th:only-of-type {\n",
       "        vertical-align: middle;\n",
       "    }\n",
       "\n",
       "    .dataframe tbody tr th {\n",
       "        vertical-align: top;\n",
       "    }\n",
       "\n",
       "    .dataframe thead th {\n",
       "        text-align: right;\n",
       "    }\n",
       "</style>\n",
       "<table border=\"1\" class=\"dataframe\">\n",
       "  <thead>\n",
       "    <tr style=\"text-align: right;\">\n",
       "      <th></th>\n",
       "      <th>name</th>\n",
       "      <th>id</th>\n",
       "      <th>minutes</th>\n",
       "      <th>contributor_id</th>\n",
       "      <th>submitted</th>\n",
       "      <th>tags</th>\n",
       "      <th>nutrition</th>\n",
       "      <th>n_steps</th>\n",
       "      <th>steps</th>\n",
       "      <th>description</th>\n",
       "      <th>ingredients</th>\n",
       "      <th>n_ingredients</th>\n",
       "    </tr>\n",
       "  </thead>\n",
       "  <tbody>\n",
       "    <tr>\n",
       "      <th>0</th>\n",
       "      <td>arriba   baked winter squash mexican style</td>\n",
       "      <td>137739</td>\n",
       "      <td>55</td>\n",
       "      <td>47892</td>\n",
       "      <td>2005-09-16</td>\n",
       "      <td>['60-minutes-or-less', 'time-to-make', 'course...</td>\n",
       "      <td>[51.5, 0.0, 13.0, 0.0, 2.0, 0.0, 4.0]</td>\n",
       "      <td>11</td>\n",
       "      <td>['make a choice and proceed with recipe', 'dep...</td>\n",
       "      <td>autumn is my favorite time of year to cook! th...</td>\n",
       "      <td>['winter squash', 'mexican seasoning', 'mixed ...</td>\n",
       "      <td>7</td>\n",
       "    </tr>\n",
       "    <tr>\n",
       "      <th>1</th>\n",
       "      <td>a bit different  breakfast pizza</td>\n",
       "      <td>31490</td>\n",
       "      <td>30</td>\n",
       "      <td>26278</td>\n",
       "      <td>2002-06-17</td>\n",
       "      <td>['30-minutes-or-less', 'time-to-make', 'course...</td>\n",
       "      <td>[173.4, 18.0, 0.0, 17.0, 22.0, 35.0, 1.0]</td>\n",
       "      <td>9</td>\n",
       "      <td>['preheat oven to 425 degrees f', 'press dough...</td>\n",
       "      <td>this recipe calls for the crust to be prebaked...</td>\n",
       "      <td>['prepared pizza crust', 'sausage patty', 'egg...</td>\n",
       "      <td>6</td>\n",
       "    </tr>\n",
       "    <tr>\n",
       "      <th>2</th>\n",
       "      <td>all in the kitchen  chili</td>\n",
       "      <td>112140</td>\n",
       "      <td>130</td>\n",
       "      <td>196586</td>\n",
       "      <td>2005-02-25</td>\n",
       "      <td>['time-to-make', 'course', 'preparation', 'mai...</td>\n",
       "      <td>[269.8, 22.0, 32.0, 48.0, 39.0, 27.0, 5.0]</td>\n",
       "      <td>6</td>\n",
       "      <td>['brown ground beef in large pot', 'add choppe...</td>\n",
       "      <td>this modified version of 'mom's' chili was a h...</td>\n",
       "      <td>['ground beef', 'yellow onions', 'diced tomato...</td>\n",
       "      <td>13</td>\n",
       "    </tr>\n",
       "  </tbody>\n",
       "</table>\n",
       "</div>"
      ],
      "text/plain": [
       "                                         name      id  minutes  \\\n",
       "0  arriba   baked winter squash mexican style  137739       55   \n",
       "1            a bit different  breakfast pizza   31490       30   \n",
       "2                   all in the kitchen  chili  112140      130   \n",
       "\n",
       "   contributor_id   submitted  \\\n",
       "0           47892  2005-09-16   \n",
       "1           26278  2002-06-17   \n",
       "2          196586  2005-02-25   \n",
       "\n",
       "                                                tags  \\\n",
       "0  ['60-minutes-or-less', 'time-to-make', 'course...   \n",
       "1  ['30-minutes-or-less', 'time-to-make', 'course...   \n",
       "2  ['time-to-make', 'course', 'preparation', 'mai...   \n",
       "\n",
       "                                    nutrition  n_steps  \\\n",
       "0       [51.5, 0.0, 13.0, 0.0, 2.0, 0.0, 4.0]       11   \n",
       "1   [173.4, 18.0, 0.0, 17.0, 22.0, 35.0, 1.0]        9   \n",
       "2  [269.8, 22.0, 32.0, 48.0, 39.0, 27.0, 5.0]        6   \n",
       "\n",
       "                                               steps  \\\n",
       "0  ['make a choice and proceed with recipe', 'dep...   \n",
       "1  ['preheat oven to 425 degrees f', 'press dough...   \n",
       "2  ['brown ground beef in large pot', 'add choppe...   \n",
       "\n",
       "                                         description  \\\n",
       "0  autumn is my favorite time of year to cook! th...   \n",
       "1  this recipe calls for the crust to be prebaked...   \n",
       "2  this modified version of 'mom's' chili was a h...   \n",
       "\n",
       "                                         ingredients  n_ingredients  \n",
       "0  ['winter squash', 'mexican seasoning', 'mixed ...              7  \n",
       "1  ['prepared pizza crust', 'sausage patty', 'egg...              6  \n",
       "2  ['ground beef', 'yellow onions', 'diced tomato...             13  "
      ]
     },
     "execution_count": 41,
     "metadata": {},
     "output_type": "execute_result"
    }
   ],
   "source": [
    "recipe_df.head(3)"
   ]
  },
  {
   "cell_type": "markdown",
   "id": "11c03472-d9b0-454e-a1dc-71df6736f411",
   "metadata": {},
   "source": [
    "Right off the bat, we can see that there are entries in the form of texts, numbers, dates and collections of some combinations of those. Now let us see the dimension of the dataset."
   ]
  },
  {
   "cell_type": "code",
   "execution_count": 42,
   "id": "1ec95698-b129-4630-a1f7-c04fd612f8b6",
   "metadata": {},
   "outputs": [
    {
     "data": {
      "text/plain": [
       "(231637, 12)"
      ]
     },
     "execution_count": 42,
     "metadata": {},
     "output_type": "execute_result"
    }
   ],
   "source": [
    "# get the shape of the dataframe\n",
    "recipe_df.shape    # (num_rows, num_cols)"
   ]
  },
  {
   "cell_type": "markdown",
   "id": "61433a00-d1df-43f8-bc0f-1956bb2b31ee",
   "metadata": {},
   "source": [
    "We see that the dataset has more than 231000 rows and only 12 columns. This means that we will have a better representation of the pupolation and that the models trained on this data will be flexible which will give better predictions. \n",
    "\n",
    "Next thig we can do is check if there are ny null values in the dataset. We will use `isnull()` method for pandas. "
   ]
  },
  {
   "cell_type": "code",
   "execution_count": 43,
   "id": "60f8bfb5-9a05-45f7-a467-2459c9780efc",
   "metadata": {},
   "outputs": [
    {
     "data": {
      "text/plain": [
       "name                 1\n",
       "id                   0\n",
       "minutes              0\n",
       "contributor_id       0\n",
       "submitted            0\n",
       "tags                 0\n",
       "nutrition            0\n",
       "n_steps              0\n",
       "steps                0\n",
       "description       4979\n",
       "ingredients          0\n",
       "n_ingredients        0\n",
       "dtype: int64"
      ]
     },
     "execution_count": 43,
     "metadata": {},
     "output_type": "execute_result"
    }
   ],
   "source": [
    "# check for null values\n",
    "recipe_df.isnull().sum()"
   ]
  },
  {
   "cell_type": "markdown",
   "id": "7304b099-f5bd-47de-8a10-9bf44818dd55",
   "metadata": {},
   "source": [
    "We have null values in `name` and `description` columns. "
   ]
  },
  {
   "cell_type": "code",
   "execution_count": 44,
   "id": "0e3c175d-8f8e-439a-a1eb-481e92395eb4",
   "metadata": {},
   "outputs": [
    {
     "name": "stdout",
     "output_type": "stream",
     "text": [
      "The name column has 0.0004% missing value and the description column has 2.1495% missing values.\n"
     ]
    }
   ],
   "source": [
    "# Percentage of the missing values\n",
    "missing_name_percent = recipe_df[\"name\"].isnull().mean()*100\n",
    "missing_description_percent = recipe_df[\"description\"].isnull().mean()*100\n",
    "\n",
    "print(f\"The name column has {missing_name_percent:.4f}% missing value and the description column has {missing_description_percent:.4f}% missing values.\")"
   ]
  },
  {
   "cell_type": "markdown",
   "id": "32e14752-7ee5-4325-9433-3b953b70f6b6",
   "metadata": {},
   "source": [
    "Let us start with the name column. We will perform boolean masking/indexing to get the True/False values for the entry with null value."
   ]
  },
  {
   "cell_type": "code",
   "execution_count": 45,
   "id": "88918252-2dc4-4b69-b358-6782353b47a0",
   "metadata": {},
   "outputs": [],
   "source": [
    "# condition\n",
    "null_value_in_name_col = recipe_df[\"name\"].isnull()"
   ]
  },
  {
   "cell_type": "markdown",
   "id": "929306e9-9948-453e-8bfc-eddc60b9ec6c",
   "metadata": {},
   "source": [
    "Now we will filter the dataframe based in the condition above."
   ]
  },
  {
   "cell_type": "code",
   "execution_count": 46,
   "id": "e41f79a5-7db3-47d1-9719-88dfd024cfa6",
   "metadata": {},
   "outputs": [
    {
     "data": {
      "text/html": [
       "<div>\n",
       "<style scoped>\n",
       "    .dataframe tbody tr th:only-of-type {\n",
       "        vertical-align: middle;\n",
       "    }\n",
       "\n",
       "    .dataframe tbody tr th {\n",
       "        vertical-align: top;\n",
       "    }\n",
       "\n",
       "    .dataframe thead th {\n",
       "        text-align: right;\n",
       "    }\n",
       "</style>\n",
       "<table border=\"1\" class=\"dataframe\">\n",
       "  <thead>\n",
       "    <tr style=\"text-align: right;\">\n",
       "      <th></th>\n",
       "      <th>name</th>\n",
       "      <th>id</th>\n",
       "      <th>minutes</th>\n",
       "      <th>contributor_id</th>\n",
       "      <th>submitted</th>\n",
       "      <th>tags</th>\n",
       "      <th>nutrition</th>\n",
       "      <th>n_steps</th>\n",
       "      <th>steps</th>\n",
       "      <th>description</th>\n",
       "      <th>ingredients</th>\n",
       "      <th>n_ingredients</th>\n",
       "    </tr>\n",
       "  </thead>\n",
       "  <tbody>\n",
       "    <tr>\n",
       "      <th>721</th>\n",
       "      <td>NaN</td>\n",
       "      <td>368257</td>\n",
       "      <td>10</td>\n",
       "      <td>779451</td>\n",
       "      <td>2009-04-27</td>\n",
       "      <td>['15-minutes-or-less', 'time-to-make', 'course...</td>\n",
       "      <td>[1596.2, 249.0, 155.0, 0.0, 2.0, 112.0, 14.0]</td>\n",
       "      <td>6</td>\n",
       "      <td>['in a bowl , combine ingredients except for o...</td>\n",
       "      <td>-------------</td>\n",
       "      <td>['lemon', 'honey', 'horseradish mustard', 'gar...</td>\n",
       "      <td>10</td>\n",
       "    </tr>\n",
       "  </tbody>\n",
       "</table>\n",
       "</div>"
      ],
      "text/plain": [
       "    name      id  minutes  contributor_id   submitted  \\\n",
       "721  NaN  368257       10          779451  2009-04-27   \n",
       "\n",
       "                                                  tags  \\\n",
       "721  ['15-minutes-or-less', 'time-to-make', 'course...   \n",
       "\n",
       "                                         nutrition  n_steps  \\\n",
       "721  [1596.2, 249.0, 155.0, 0.0, 2.0, 112.0, 14.0]        6   \n",
       "\n",
       "                                                 steps    description  \\\n",
       "721  ['in a bowl , combine ingredients except for o...  -------------   \n",
       "\n",
       "                                           ingredients  n_ingredients  \n",
       "721  ['lemon', 'honey', 'horseradish mustard', 'gar...             10  "
      ]
     },
     "execution_count": 46,
     "metadata": {},
     "output_type": "execute_result"
    }
   ],
   "source": [
    "recipe_df[null_value_in_name_col]"
   ]
  },
  {
   "cell_type": "markdown",
   "id": "749238cd-48f7-4884-8176-262f2e592593",
   "metadata": {},
   "source": [
    "Let us drop this entry from the dataframe."
   ]
  },
  {
   "cell_type": "code",
   "execution_count": 47,
   "id": "a4f1fc57-8013-4bab-a7bf-6583ca8cd315",
   "metadata": {},
   "outputs": [],
   "source": [
    "# drop the null value\n",
    "recipe_df.drop(index=[721], inplace = True)"
   ]
  },
  {
   "cell_type": "code",
   "execution_count": 48,
   "id": "6401bb38-849e-478a-9c75-3a862839f0fb",
   "metadata": {},
   "outputs": [
    {
     "data": {
      "text/plain": [
       "name                 0\n",
       "id                   0\n",
       "minutes              0\n",
       "contributor_id       0\n",
       "submitted            0\n",
       "tags                 0\n",
       "nutrition            0\n",
       "n_steps              0\n",
       "steps                0\n",
       "description       4979\n",
       "ingredients          0\n",
       "n_ingredients        0\n",
       "dtype: int64"
      ]
     },
     "execution_count": 48,
     "metadata": {},
     "output_type": "execute_result"
    }
   ],
   "source": [
    "# Sanity check\n",
    "recipe_df.isnull().sum()"
   ]
  },
  {
   "cell_type": "markdown",
   "id": "1192c97b-f1d8-4b17-9f44-0e502df2ae3b",
   "metadata": {},
   "source": [
    "We have successfully dropped the entry with null value from our dataframe. Now we will perform the boolean masking operation again to grab entries that have `NaN` values in the `description` column in the dataframe."
   ]
  },
  {
   "cell_type": "code",
   "execution_count": 49,
   "id": "b7224a72-2423-41db-9ffa-e6873898dab5",
   "metadata": {},
   "outputs": [],
   "source": [
    "# condition\n",
    "null_values_in_description_col = recipe_df[\"description\"].isnull()"
   ]
  },
  {
   "cell_type": "code",
   "execution_count": 50,
   "id": "689b1040-9b4e-4f69-b14d-1cd7741acef0",
   "metadata": {},
   "outputs": [],
   "source": [
    "# filter, get the index and drop the entries.\n",
    "idx_for_null_in_description_col = recipe_df[null_values_in_description_col].index\n",
    "recipe_df.drop(index = idx_for_null_in_description_col, inplace = True)"
   ]
  },
  {
   "cell_type": "code",
   "execution_count": 51,
   "id": "edfad4ad-ca79-4561-ac49-1a2116d20128",
   "metadata": {},
   "outputs": [
    {
     "data": {
      "text/plain": [
       "name              0\n",
       "id                0\n",
       "minutes           0\n",
       "contributor_id    0\n",
       "submitted         0\n",
       "tags              0\n",
       "nutrition         0\n",
       "n_steps           0\n",
       "steps             0\n",
       "description       0\n",
       "ingredients       0\n",
       "n_ingredients     0\n",
       "dtype: int64"
      ]
     },
     "execution_count": 51,
     "metadata": {},
     "output_type": "execute_result"
    }
   ],
   "source": [
    "# Sanity check\n",
    "recipe_df.isnull().sum()"
   ]
  },
  {
   "cell_type": "markdown",
   "id": "7959d0ff-e6d8-49f8-ba78-66ddcba042c5",
   "metadata": {},
   "source": [
    "So at this point we have dealt with the `NaN` values in the dataset."
   ]
  },
  {
   "cell_type": "markdown",
   "id": "8cc87391-8028-4cc4-9629-9e734ebb7cfb",
   "metadata": {},
   "source": [
    "Now let us check the dataset one more time using both `head()` and `info()` methods."
   ]
  },
  {
   "cell_type": "code",
   "execution_count": 54,
   "id": "e936da85-b205-4f82-bd5e-96a1973806cc",
   "metadata": {},
   "outputs": [
    {
     "data": {
      "text/html": [
       "<div>\n",
       "<style scoped>\n",
       "    .dataframe tbody tr th:only-of-type {\n",
       "        vertical-align: middle;\n",
       "    }\n",
       "\n",
       "    .dataframe tbody tr th {\n",
       "        vertical-align: top;\n",
       "    }\n",
       "\n",
       "    .dataframe thead th {\n",
       "        text-align: right;\n",
       "    }\n",
       "</style>\n",
       "<table border=\"1\" class=\"dataframe\">\n",
       "  <thead>\n",
       "    <tr style=\"text-align: right;\">\n",
       "      <th></th>\n",
       "      <th>name</th>\n",
       "      <th>id</th>\n",
       "      <th>minutes</th>\n",
       "      <th>contributor_id</th>\n",
       "      <th>submitted</th>\n",
       "      <th>tags</th>\n",
       "      <th>nutrition</th>\n",
       "      <th>n_steps</th>\n",
       "      <th>steps</th>\n",
       "      <th>description</th>\n",
       "      <th>ingredients</th>\n",
       "      <th>n_ingredients</th>\n",
       "    </tr>\n",
       "  </thead>\n",
       "  <tbody>\n",
       "    <tr>\n",
       "      <th>0</th>\n",
       "      <td>arriba   baked winter squash mexican style</td>\n",
       "      <td>137739</td>\n",
       "      <td>55</td>\n",
       "      <td>47892</td>\n",
       "      <td>2005-09-16</td>\n",
       "      <td>['60-minutes-or-less', 'time-to-make', 'course...</td>\n",
       "      <td>[51.5, 0.0, 13.0, 0.0, 2.0, 0.0, 4.0]</td>\n",
       "      <td>11</td>\n",
       "      <td>['make a choice and proceed with recipe', 'dep...</td>\n",
       "      <td>autumn is my favorite time of year to cook! th...</td>\n",
       "      <td>['winter squash', 'mexican seasoning', 'mixed ...</td>\n",
       "      <td>7</td>\n",
       "    </tr>\n",
       "    <tr>\n",
       "      <th>1</th>\n",
       "      <td>a bit different  breakfast pizza</td>\n",
       "      <td>31490</td>\n",
       "      <td>30</td>\n",
       "      <td>26278</td>\n",
       "      <td>2002-06-17</td>\n",
       "      <td>['30-minutes-or-less', 'time-to-make', 'course...</td>\n",
       "      <td>[173.4, 18.0, 0.0, 17.0, 22.0, 35.0, 1.0]</td>\n",
       "      <td>9</td>\n",
       "      <td>['preheat oven to 425 degrees f', 'press dough...</td>\n",
       "      <td>this recipe calls for the crust to be prebaked...</td>\n",
       "      <td>['prepared pizza crust', 'sausage patty', 'egg...</td>\n",
       "      <td>6</td>\n",
       "    </tr>\n",
       "    <tr>\n",
       "      <th>2</th>\n",
       "      <td>all in the kitchen  chili</td>\n",
       "      <td>112140</td>\n",
       "      <td>130</td>\n",
       "      <td>196586</td>\n",
       "      <td>2005-02-25</td>\n",
       "      <td>['time-to-make', 'course', 'preparation', 'mai...</td>\n",
       "      <td>[269.8, 22.0, 32.0, 48.0, 39.0, 27.0, 5.0]</td>\n",
       "      <td>6</td>\n",
       "      <td>['brown ground beef in large pot', 'add choppe...</td>\n",
       "      <td>this modified version of 'mom's' chili was a h...</td>\n",
       "      <td>['ground beef', 'yellow onions', 'diced tomato...</td>\n",
       "      <td>13</td>\n",
       "    </tr>\n",
       "  </tbody>\n",
       "</table>\n",
       "</div>"
      ],
      "text/plain": [
       "                                         name      id  minutes  \\\n",
       "0  arriba   baked winter squash mexican style  137739       55   \n",
       "1            a bit different  breakfast pizza   31490       30   \n",
       "2                   all in the kitchen  chili  112140      130   \n",
       "\n",
       "   contributor_id   submitted  \\\n",
       "0           47892  2005-09-16   \n",
       "1           26278  2002-06-17   \n",
       "2          196586  2005-02-25   \n",
       "\n",
       "                                                tags  \\\n",
       "0  ['60-minutes-or-less', 'time-to-make', 'course...   \n",
       "1  ['30-minutes-or-less', 'time-to-make', 'course...   \n",
       "2  ['time-to-make', 'course', 'preparation', 'mai...   \n",
       "\n",
       "                                    nutrition  n_steps  \\\n",
       "0       [51.5, 0.0, 13.0, 0.0, 2.0, 0.0, 4.0]       11   \n",
       "1   [173.4, 18.0, 0.0, 17.0, 22.0, 35.0, 1.0]        9   \n",
       "2  [269.8, 22.0, 32.0, 48.0, 39.0, 27.0, 5.0]        6   \n",
       "\n",
       "                                               steps  \\\n",
       "0  ['make a choice and proceed with recipe', 'dep...   \n",
       "1  ['preheat oven to 425 degrees f', 'press dough...   \n",
       "2  ['brown ground beef in large pot', 'add choppe...   \n",
       "\n",
       "                                         description  \\\n",
       "0  autumn is my favorite time of year to cook! th...   \n",
       "1  this recipe calls for the crust to be prebaked...   \n",
       "2  this modified version of 'mom's' chili was a h...   \n",
       "\n",
       "                                         ingredients  n_ingredients  \n",
       "0  ['winter squash', 'mexican seasoning', 'mixed ...              7  \n",
       "1  ['prepared pizza crust', 'sausage patty', 'egg...              6  \n",
       "2  ['ground beef', 'yellow onions', 'diced tomato...             13  "
      ]
     },
     "execution_count": 54,
     "metadata": {},
     "output_type": "execute_result"
    }
   ],
   "source": [
    "# head method\n",
    "recipe_df.head(3)"
   ]
  },
  {
   "cell_type": "code",
   "execution_count": 55,
   "id": "09efedf8-c579-4853-a887-e61e4dc98d2f",
   "metadata": {},
   "outputs": [
    {
     "name": "stdout",
     "output_type": "stream",
     "text": [
      "<class 'pandas.core.frame.DataFrame'>\n",
      "Index: 226657 entries, 0 to 231636\n",
      "Data columns (total 12 columns):\n",
      " #   Column          Non-Null Count   Dtype \n",
      "---  ------          --------------   ----- \n",
      " 0   name            226657 non-null  object\n",
      " 1   id              226657 non-null  int64 \n",
      " 2   minutes         226657 non-null  int64 \n",
      " 3   contributor_id  226657 non-null  int64 \n",
      " 4   submitted       226657 non-null  object\n",
      " 5   tags            226657 non-null  object\n",
      " 6   nutrition       226657 non-null  object\n",
      " 7   n_steps         226657 non-null  int64 \n",
      " 8   steps           226657 non-null  object\n",
      " 9   description     226657 non-null  object\n",
      " 10  ingredients     226657 non-null  object\n",
      " 11  n_ingredients   226657 non-null  int64 \n",
      "dtypes: int64(5), object(7)\n",
      "memory usage: 22.5+ MB\n"
     ]
    }
   ],
   "source": [
    "# info method\n",
    "recipe_df.info()"
   ]
  },
  {
   "cell_type": "markdown",
   "id": "038ffd3c-46eb-467a-9701-620cc5e49dec",
   "metadata": {},
   "source": [
    "Notice that we have some columns that have incorrect datatypes. For instance, the `submitted` column is of type object when it should be of type datime."
   ]
  },
  {
   "cell_type": "markdown",
   "id": "99c1c3c8-4a4b-4e0c-a0dd-bc64bc47de5e",
   "metadata": {},
   "source": [
    "Moreover, if we look at the first entry of the `tags` column, we see that it is of type `str` instead of type `list`. "
   ]
  },
  {
   "cell_type": "code",
   "execution_count": 58,
   "id": "5a94ddef-9c32-47ee-8490-cae84f7b95cb",
   "metadata": {},
   "outputs": [
    {
     "data": {
      "text/plain": [
       "str"
      ]
     },
     "execution_count": 58,
     "metadata": {},
     "output_type": "execute_result"
    }
   ],
   "source": [
    "type(recipe_df[\"tags\"][0])"
   ]
  },
  {
   "cell_type": "markdown",
   "id": "65f8d709-b932-4fdd-a775-14a5e3292948",
   "metadata": {},
   "source": [
    "This is the exact problem with the `nutrition`, `steps` and `ingredients` columns as well."
   ]
  },
  {
   "cell_type": "code",
   "execution_count": 69,
   "id": "77cc8023-3236-4979-8ad7-a2b2a1cb761d",
   "metadata": {},
   "outputs": [
    {
     "name": "stdout",
     "output_type": "stream",
     "text": [
      "Data type of the first entry in 'nutrition' column: <class 'str'>.\n",
      "Data type of the first entry in 'steps' column: <class 'str'>.\n",
      "Data type of the first entry in 'ingredients' column: <class 'str'>.\n",
      "\n"
     ]
    }
   ],
   "source": [
    "#print(f\"Data type for first entry of `nutrition` column:{type(recipe_df[\"nutrition\"][0])} and for first entry of 'steps' column:{type(recipe_df[\"steps\"][0])}\")\n",
    "\n",
    "print(f\"Data type of the first entry in 'nutrition' column: {type(recipe_df['nutrition'][0])}.\")\n",
    "print(f\"Data type of the first entry in 'steps' column: {type(recipe_df['steps'][0])}.\")\n",
    "print(f\"Data type of the first entry in 'ingredients' column: {type(recipe_df['ingredients'][0])}.\")\n",
    "print()\n"
   ]
  },
  {
   "cell_type": "markdown",
   "id": "bf254b46-f6ec-478b-961e-50370c58976d",
   "metadata": {},
   "source": [
    "So let us convert all the aforementioned columns to their correct types. To convert to datetime we will use the `to_datetime()` method from pandas and to convert to list we will use `literal_eval()` method from Abstract Syntax Trees module together with `apply()` method to perform custom, row-wise, or element-wise operations using `lambda` functions."
   ]
  },
  {
   "cell_type": "code",
   "execution_count": 70,
   "id": "ef1af6d8-1045-48a0-9e83-42083c04dc1e",
   "metadata": {},
   "outputs": [],
   "source": [
    "# converting submitted column to datetime\n",
    "recipe_df['submitted'] = pd.to_datetime(recipe_df['submitted'])\n",
    "\n",
    "# Conversion into a type list\n",
    "recipe_df[\"tags\"] = recipe_df[\"tags\"].apply(lambda x: ast.literal_eval(x))\n",
    "recipe_df[\"nutrition\"] = recipe_df[\"nutrition\"].apply(lambda x: ast.literal_eval(x))\n",
    "recipe_df[\"steps\"] = recipe_df[\"steps\"].apply(lambda x: ast.literal_eval(x))\n",
    "recipe_df[\"ingredients\"] = recipe_df[\"ingredients\"].apply(lambda x: ast.literal_eval(x))"
   ]
  },
  {
   "cell_type": "code",
   "execution_count": 72,
   "id": "8187496c-e90d-436c-b775-5ec91706c522",
   "metadata": {},
   "outputs": [
    {
     "name": "stdout",
     "output_type": "stream",
     "text": [
      "Data type of 'submitted' column: <class 'pandas.core.series.Series'>\n",
      "Data type of the first entry in 'nutrition' column: <class 'list'>.\n",
      "Data type of the first entry in 'steps' column: <class 'list'>.\n",
      "Data type of the first entry in 'ingredients' column: <class 'list'>.\n"
     ]
    }
   ],
   "source": [
    "# sanity check\n",
    "print(f\"Data type of 'submitted' column: {type(recipe_df[\"submitted\"])}\")\n",
    "print(f\"Data type of the first entry in 'nutrition' column: {type(recipe_df['nutrition'][0])}.\")\n",
    "print(f\"Data type of the first entry in 'steps' column: {type(recipe_df['steps'][0])}.\")\n",
    "print(f\"Data type of the first entry in 'ingredients' column: {type(recipe_df['ingredients'][0])}.\")"
   ]
  },
  {
   "cell_type": "code",
   "execution_count": null,
   "id": "8772295e-e138-45e0-99c8-efa6c94755b6",
   "metadata": {},
   "outputs": [],
   "source": []
  }
 ],
 "metadata": {
  "kernelspec": {
   "display_name": "Python 3 (ipykernel)",
   "language": "python",
   "name": "python3"
  },
  "language_info": {
   "codemirror_mode": {
    "name": "ipython",
    "version": 3
   },
   "file_extension": ".py",
   "mimetype": "text/x-python",
   "name": "python",
   "nbconvert_exporter": "python",
   "pygments_lexer": "ipython3",
   "version": "3.12.5"
  }
 },
 "nbformat": 4,
 "nbformat_minor": 5
}
