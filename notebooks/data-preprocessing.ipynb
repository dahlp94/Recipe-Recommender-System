{
 "cells": [
  {
   "cell_type": "markdown",
   "id": "ae156977-fc59-4f8b-919f-2d6252aea4fd",
   "metadata": {},
   "source": [
    "# Recipe Recommendation System: Data Preparation and Initial EDA\n",
    "\n",
    "This project aims to build a personalized recipe recommendation system using the `Food.com Recipes and Interactions` dataset from Kaggle. The dataset contains detailed information about recipes, including ingredients, nutritional values, and user ratings. \n",
    "\n",
    "This notebook focuses on the first step in the pipeline: preparing and exploring the data. It is the foundation for creating clean and feature-rich datasets to be used in subsequent analysis and modeling. This is the first of multiple notebooks in the project.\n",
    "\n",
    "### Objectives:\n",
    "1. Preprocess and clean the dataset.\n",
    "2. Handle outliers and convert data to appropriate formats.\n",
    "3. Perform initial exploratory data analysis (EDA).\n",
    "4. Generate a cleaned dataset and an additional feature-enriched dataset for further analysis.\n",
    "\n",
    "### Outline:\n",
    "- Importing libraries and loading the dataset.\n",
    "- Cleaning and preprocessing the data:\n",
    "  - Handling outliers.\n",
    "  - Converting object data types to appropriate formats.\n",
    "  - Adding new features from existing columns.\n",
    "- Conducting initial exploratory data analysis (EDA).\n",
    "- Generating and saving two datasets:\n",
    "  - A cleaned version of the original dataset.\n",
    "  - A feature-enriched dataset for use in subsequent analysis and modeling.\n"
   ]
  },
  {
   "cell_type": "code",
   "execution_count": 1,
   "id": "ffc91fa2-e5fd-40f3-a520-5b53420cad4d",
   "metadata": {},
   "outputs": [],
   "source": [
    "# import the necessary libraries\n",
    "import pandas as pd\n",
    "import ast\n",
    "import matplotlib.pyplot as plt"
   ]
  },
  {
   "cell_type": "code",
   "execution_count": 2,
   "id": "40ebc80d-e502-41b4-95ec-1c4805ba7a6e",
   "metadata": {},
   "outputs": [],
   "source": [
    "# load the dataset into memory\n",
    "# First dataframe\n",
    "recipe_df = pd.read_csv(\"C:/Users/pd006/Desktop/internship_search/machine_learning/Recipe-Recommender-System/data/RAW_recipes.csv\")"
   ]
  },
  {
   "cell_type": "markdown",
   "id": "a5deff15-9b95-4e19-a95e-4f795b45f6d2",
   "metadata": {},
   "source": [
    "Let us start exploring the `recipe_df`"
   ]
  },
  {
   "cell_type": "code",
   "execution_count": 3,
   "id": "daf7dffe-fa5a-4662-bfaf-898490711b93",
   "metadata": {},
   "outputs": [
    {
     "data": {
      "text/html": [
       "<div>\n",
       "<style scoped>\n",
       "    .dataframe tbody tr th:only-of-type {\n",
       "        vertical-align: middle;\n",
       "    }\n",
       "\n",
       "    .dataframe tbody tr th {\n",
       "        vertical-align: top;\n",
       "    }\n",
       "\n",
       "    .dataframe thead th {\n",
       "        text-align: right;\n",
       "    }\n",
       "</style>\n",
       "<table border=\"1\" class=\"dataframe\">\n",
       "  <thead>\n",
       "    <tr style=\"text-align: right;\">\n",
       "      <th></th>\n",
       "      <th>name</th>\n",
       "      <th>id</th>\n",
       "      <th>minutes</th>\n",
       "      <th>contributor_id</th>\n",
       "      <th>submitted</th>\n",
       "      <th>tags</th>\n",
       "      <th>nutrition</th>\n",
       "      <th>n_steps</th>\n",
       "      <th>steps</th>\n",
       "      <th>description</th>\n",
       "      <th>ingredients</th>\n",
       "      <th>n_ingredients</th>\n",
       "    </tr>\n",
       "  </thead>\n",
       "  <tbody>\n",
       "    <tr>\n",
       "      <th>0</th>\n",
       "      <td>arriba   baked winter squash mexican style</td>\n",
       "      <td>137739</td>\n",
       "      <td>55</td>\n",
       "      <td>47892</td>\n",
       "      <td>2005-09-16</td>\n",
       "      <td>['60-minutes-or-less', 'time-to-make', 'course...</td>\n",
       "      <td>[51.5, 0.0, 13.0, 0.0, 2.0, 0.0, 4.0]</td>\n",
       "      <td>11</td>\n",
       "      <td>['make a choice and proceed with recipe', 'dep...</td>\n",
       "      <td>autumn is my favorite time of year to cook! th...</td>\n",
       "      <td>['winter squash', 'mexican seasoning', 'mixed ...</td>\n",
       "      <td>7</td>\n",
       "    </tr>\n",
       "    <tr>\n",
       "      <th>1</th>\n",
       "      <td>a bit different  breakfast pizza</td>\n",
       "      <td>31490</td>\n",
       "      <td>30</td>\n",
       "      <td>26278</td>\n",
       "      <td>2002-06-17</td>\n",
       "      <td>['30-minutes-or-less', 'time-to-make', 'course...</td>\n",
       "      <td>[173.4, 18.0, 0.0, 17.0, 22.0, 35.0, 1.0]</td>\n",
       "      <td>9</td>\n",
       "      <td>['preheat oven to 425 degrees f', 'press dough...</td>\n",
       "      <td>this recipe calls for the crust to be prebaked...</td>\n",
       "      <td>['prepared pizza crust', 'sausage patty', 'egg...</td>\n",
       "      <td>6</td>\n",
       "    </tr>\n",
       "    <tr>\n",
       "      <th>2</th>\n",
       "      <td>all in the kitchen  chili</td>\n",
       "      <td>112140</td>\n",
       "      <td>130</td>\n",
       "      <td>196586</td>\n",
       "      <td>2005-02-25</td>\n",
       "      <td>['time-to-make', 'course', 'preparation', 'mai...</td>\n",
       "      <td>[269.8, 22.0, 32.0, 48.0, 39.0, 27.0, 5.0]</td>\n",
       "      <td>6</td>\n",
       "      <td>['brown ground beef in large pot', 'add choppe...</td>\n",
       "      <td>this modified version of 'mom's' chili was a h...</td>\n",
       "      <td>['ground beef', 'yellow onions', 'diced tomato...</td>\n",
       "      <td>13</td>\n",
       "    </tr>\n",
       "  </tbody>\n",
       "</table>\n",
       "</div>"
      ],
      "text/plain": [
       "                                         name      id  minutes  \\\n",
       "0  arriba   baked winter squash mexican style  137739       55   \n",
       "1            a bit different  breakfast pizza   31490       30   \n",
       "2                   all in the kitchen  chili  112140      130   \n",
       "\n",
       "   contributor_id   submitted  \\\n",
       "0           47892  2005-09-16   \n",
       "1           26278  2002-06-17   \n",
       "2          196586  2005-02-25   \n",
       "\n",
       "                                                tags  \\\n",
       "0  ['60-minutes-or-less', 'time-to-make', 'course...   \n",
       "1  ['30-minutes-or-less', 'time-to-make', 'course...   \n",
       "2  ['time-to-make', 'course', 'preparation', 'mai...   \n",
       "\n",
       "                                    nutrition  n_steps  \\\n",
       "0       [51.5, 0.0, 13.0, 0.0, 2.0, 0.0, 4.0]       11   \n",
       "1   [173.4, 18.0, 0.0, 17.0, 22.0, 35.0, 1.0]        9   \n",
       "2  [269.8, 22.0, 32.0, 48.0, 39.0, 27.0, 5.0]        6   \n",
       "\n",
       "                                               steps  \\\n",
       "0  ['make a choice and proceed with recipe', 'dep...   \n",
       "1  ['preheat oven to 425 degrees f', 'press dough...   \n",
       "2  ['brown ground beef in large pot', 'add choppe...   \n",
       "\n",
       "                                         description  \\\n",
       "0  autumn is my favorite time of year to cook! th...   \n",
       "1  this recipe calls for the crust to be prebaked...   \n",
       "2  this modified version of 'mom's' chili was a h...   \n",
       "\n",
       "                                         ingredients  n_ingredients  \n",
       "0  ['winter squash', 'mexican seasoning', 'mixed ...              7  \n",
       "1  ['prepared pizza crust', 'sausage patty', 'egg...              6  \n",
       "2  ['ground beef', 'yellow onions', 'diced tomato...             13  "
      ]
     },
     "execution_count": 3,
     "metadata": {},
     "output_type": "execute_result"
    }
   ],
   "source": [
    "recipe_df.head(3)"
   ]
  },
  {
   "cell_type": "markdown",
   "id": "11c03472-d9b0-454e-a1dc-71df6736f411",
   "metadata": {},
   "source": [
    "Right off the bat, we can see that there are entries in the form of texts, numbers, dates and collections of some combinations of those. Now let us see the dimension of the dataset."
   ]
  },
  {
   "cell_type": "code",
   "execution_count": 4,
   "id": "1ec95698-b129-4630-a1f7-c04fd612f8b6",
   "metadata": {},
   "outputs": [
    {
     "data": {
      "text/plain": [
       "(231637, 12)"
      ]
     },
     "execution_count": 4,
     "metadata": {},
     "output_type": "execute_result"
    }
   ],
   "source": [
    "# get the shape of the dataframe\n",
    "recipe_df.shape    # (num_rows, num_cols)"
   ]
  },
  {
   "cell_type": "markdown",
   "id": "61433a00-d1df-43f8-bc0f-1956bb2b31ee",
   "metadata": {},
   "source": [
    "We see that the dataset has more than 231000 rows and only 12 columns. This means that we will have a better representation of the pupolation and that the models trained on this data will be flexible which will give better predictions. \n",
    "\n",
    "Next thig we can do is check if there are ny null values in the dataset. We will use `isnull()` method for pandas. "
   ]
  },
  {
   "cell_type": "code",
   "execution_count": 5,
   "id": "60f8bfb5-9a05-45f7-a467-2459c9780efc",
   "metadata": {},
   "outputs": [
    {
     "data": {
      "text/plain": [
       "name                 1\n",
       "id                   0\n",
       "minutes              0\n",
       "contributor_id       0\n",
       "submitted            0\n",
       "tags                 0\n",
       "nutrition            0\n",
       "n_steps              0\n",
       "steps                0\n",
       "description       4979\n",
       "ingredients          0\n",
       "n_ingredients        0\n",
       "dtype: int64"
      ]
     },
     "execution_count": 5,
     "metadata": {},
     "output_type": "execute_result"
    }
   ],
   "source": [
    "# check for null values\n",
    "recipe_df.isnull().sum()"
   ]
  },
  {
   "cell_type": "markdown",
   "id": "7304b099-f5bd-47de-8a10-9bf44818dd55",
   "metadata": {},
   "source": [
    "We have null values in `name` and `description` columns. "
   ]
  },
  {
   "cell_type": "code",
   "execution_count": 6,
   "id": "0e3c175d-8f8e-439a-a1eb-481e92395eb4",
   "metadata": {},
   "outputs": [
    {
     "name": "stdout",
     "output_type": "stream",
     "text": [
      "The name column has 0.0004% missing value and the description column has 2.1495% missing values.\n"
     ]
    }
   ],
   "source": [
    "# Percentage of the missing values\n",
    "missing_name_percent = recipe_df[\"name\"].isnull().mean()*100\n",
    "missing_description_percent = recipe_df[\"description\"].isnull().mean()*100\n",
    "\n",
    "print(f\"The name column has {missing_name_percent:.4f}% missing value and the description column has {missing_description_percent:.4f}% missing values.\")"
   ]
  },
  {
   "cell_type": "markdown",
   "id": "32e14752-7ee5-4325-9433-3b953b70f6b6",
   "metadata": {},
   "source": [
    "Let us start with the name column. We will perform boolean masking/indexing to get the True/False values for the entry with null value."
   ]
  },
  {
   "cell_type": "code",
   "execution_count": 7,
   "id": "88918252-2dc4-4b69-b358-6782353b47a0",
   "metadata": {},
   "outputs": [],
   "source": [
    "# condition\n",
    "null_value_in_name_col = recipe_df[\"name\"].isnull()"
   ]
  },
  {
   "cell_type": "markdown",
   "id": "929306e9-9948-453e-8bfc-eddc60b9ec6c",
   "metadata": {},
   "source": [
    "Now we will filter the dataframe based in the condition above."
   ]
  },
  {
   "cell_type": "code",
   "execution_count": 8,
   "id": "e41f79a5-7db3-47d1-9719-88dfd024cfa6",
   "metadata": {},
   "outputs": [
    {
     "data": {
      "text/html": [
       "<div>\n",
       "<style scoped>\n",
       "    .dataframe tbody tr th:only-of-type {\n",
       "        vertical-align: middle;\n",
       "    }\n",
       "\n",
       "    .dataframe tbody tr th {\n",
       "        vertical-align: top;\n",
       "    }\n",
       "\n",
       "    .dataframe thead th {\n",
       "        text-align: right;\n",
       "    }\n",
       "</style>\n",
       "<table border=\"1\" class=\"dataframe\">\n",
       "  <thead>\n",
       "    <tr style=\"text-align: right;\">\n",
       "      <th></th>\n",
       "      <th>name</th>\n",
       "      <th>id</th>\n",
       "      <th>minutes</th>\n",
       "      <th>contributor_id</th>\n",
       "      <th>submitted</th>\n",
       "      <th>tags</th>\n",
       "      <th>nutrition</th>\n",
       "      <th>n_steps</th>\n",
       "      <th>steps</th>\n",
       "      <th>description</th>\n",
       "      <th>ingredients</th>\n",
       "      <th>n_ingredients</th>\n",
       "    </tr>\n",
       "  </thead>\n",
       "  <tbody>\n",
       "    <tr>\n",
       "      <th>721</th>\n",
       "      <td>NaN</td>\n",
       "      <td>368257</td>\n",
       "      <td>10</td>\n",
       "      <td>779451</td>\n",
       "      <td>2009-04-27</td>\n",
       "      <td>['15-minutes-or-less', 'time-to-make', 'course...</td>\n",
       "      <td>[1596.2, 249.0, 155.0, 0.0, 2.0, 112.0, 14.0]</td>\n",
       "      <td>6</td>\n",
       "      <td>['in a bowl , combine ingredients except for o...</td>\n",
       "      <td>-------------</td>\n",
       "      <td>['lemon', 'honey', 'horseradish mustard', 'gar...</td>\n",
       "      <td>10</td>\n",
       "    </tr>\n",
       "  </tbody>\n",
       "</table>\n",
       "</div>"
      ],
      "text/plain": [
       "    name      id  minutes  contributor_id   submitted  \\\n",
       "721  NaN  368257       10          779451  2009-04-27   \n",
       "\n",
       "                                                  tags  \\\n",
       "721  ['15-minutes-or-less', 'time-to-make', 'course...   \n",
       "\n",
       "                                         nutrition  n_steps  \\\n",
       "721  [1596.2, 249.0, 155.0, 0.0, 2.0, 112.0, 14.0]        6   \n",
       "\n",
       "                                                 steps    description  \\\n",
       "721  ['in a bowl , combine ingredients except for o...  -------------   \n",
       "\n",
       "                                           ingredients  n_ingredients  \n",
       "721  ['lemon', 'honey', 'horseradish mustard', 'gar...             10  "
      ]
     },
     "execution_count": 8,
     "metadata": {},
     "output_type": "execute_result"
    }
   ],
   "source": [
    "recipe_df[null_value_in_name_col]"
   ]
  },
  {
   "cell_type": "markdown",
   "id": "749238cd-48f7-4884-8176-262f2e592593",
   "metadata": {},
   "source": [
    "Let us drop this entry from the dataframe."
   ]
  },
  {
   "cell_type": "code",
   "execution_count": 9,
   "id": "a4f1fc57-8013-4bab-a7bf-6583ca8cd315",
   "metadata": {},
   "outputs": [],
   "source": [
    "# drop the null value\n",
    "recipe_df.drop(index=[721], inplace = True)"
   ]
  },
  {
   "cell_type": "code",
   "execution_count": 10,
   "id": "6401bb38-849e-478a-9c75-3a862839f0fb",
   "metadata": {},
   "outputs": [
    {
     "data": {
      "text/plain": [
       "name                 0\n",
       "id                   0\n",
       "minutes              0\n",
       "contributor_id       0\n",
       "submitted            0\n",
       "tags                 0\n",
       "nutrition            0\n",
       "n_steps              0\n",
       "steps                0\n",
       "description       4979\n",
       "ingredients          0\n",
       "n_ingredients        0\n",
       "dtype: int64"
      ]
     },
     "execution_count": 10,
     "metadata": {},
     "output_type": "execute_result"
    }
   ],
   "source": [
    "# Sanity check\n",
    "recipe_df.isnull().sum()"
   ]
  },
  {
   "cell_type": "markdown",
   "id": "1192c97b-f1d8-4b17-9f44-0e502df2ae3b",
   "metadata": {},
   "source": [
    "We have successfully dropped the entry with null value from our dataframe. Now we will perform the boolean masking operation again to grab entries that have `NaN` values in the `description` column in the dataframe."
   ]
  },
  {
   "cell_type": "code",
   "execution_count": 11,
   "id": "b7224a72-2423-41db-9ffa-e6873898dab5",
   "metadata": {},
   "outputs": [],
   "source": [
    "# condition\n",
    "null_values_in_description_col = recipe_df[\"description\"].isnull()"
   ]
  },
  {
   "cell_type": "code",
   "execution_count": 12,
   "id": "689b1040-9b4e-4f69-b14d-1cd7741acef0",
   "metadata": {},
   "outputs": [],
   "source": [
    "# filter, get the index and drop the entries.\n",
    "idx_for_null_in_description_col = recipe_df[null_values_in_description_col].index\n",
    "recipe_df.drop(index = idx_for_null_in_description_col, inplace = True)"
   ]
  },
  {
   "cell_type": "code",
   "execution_count": 13,
   "id": "edfad4ad-ca79-4561-ac49-1a2116d20128",
   "metadata": {},
   "outputs": [
    {
     "data": {
      "text/plain": [
       "name              0\n",
       "id                0\n",
       "minutes           0\n",
       "contributor_id    0\n",
       "submitted         0\n",
       "tags              0\n",
       "nutrition         0\n",
       "n_steps           0\n",
       "steps             0\n",
       "description       0\n",
       "ingredients       0\n",
       "n_ingredients     0\n",
       "dtype: int64"
      ]
     },
     "execution_count": 13,
     "metadata": {},
     "output_type": "execute_result"
    }
   ],
   "source": [
    "# Sanity check\n",
    "recipe_df.isnull().sum()"
   ]
  },
  {
   "cell_type": "markdown",
   "id": "7959d0ff-e6d8-49f8-ba78-66ddcba042c5",
   "metadata": {},
   "source": [
    "So at this point we have dealt with the `NaN` values in the dataset."
   ]
  },
  {
   "cell_type": "markdown",
   "id": "8cc87391-8028-4cc4-9629-9e734ebb7cfb",
   "metadata": {},
   "source": [
    "Now let us check the dataset one more time using both `head()` and `info()` methods."
   ]
  },
  {
   "cell_type": "code",
   "execution_count": 14,
   "id": "e936da85-b205-4f82-bd5e-96a1973806cc",
   "metadata": {},
   "outputs": [
    {
     "data": {
      "text/html": [
       "<div>\n",
       "<style scoped>\n",
       "    .dataframe tbody tr th:only-of-type {\n",
       "        vertical-align: middle;\n",
       "    }\n",
       "\n",
       "    .dataframe tbody tr th {\n",
       "        vertical-align: top;\n",
       "    }\n",
       "\n",
       "    .dataframe thead th {\n",
       "        text-align: right;\n",
       "    }\n",
       "</style>\n",
       "<table border=\"1\" class=\"dataframe\">\n",
       "  <thead>\n",
       "    <tr style=\"text-align: right;\">\n",
       "      <th></th>\n",
       "      <th>name</th>\n",
       "      <th>id</th>\n",
       "      <th>minutes</th>\n",
       "      <th>contributor_id</th>\n",
       "      <th>submitted</th>\n",
       "      <th>tags</th>\n",
       "      <th>nutrition</th>\n",
       "      <th>n_steps</th>\n",
       "      <th>steps</th>\n",
       "      <th>description</th>\n",
       "      <th>ingredients</th>\n",
       "      <th>n_ingredients</th>\n",
       "    </tr>\n",
       "  </thead>\n",
       "  <tbody>\n",
       "    <tr>\n",
       "      <th>0</th>\n",
       "      <td>arriba   baked winter squash mexican style</td>\n",
       "      <td>137739</td>\n",
       "      <td>55</td>\n",
       "      <td>47892</td>\n",
       "      <td>2005-09-16</td>\n",
       "      <td>['60-minutes-or-less', 'time-to-make', 'course...</td>\n",
       "      <td>[51.5, 0.0, 13.0, 0.0, 2.0, 0.0, 4.0]</td>\n",
       "      <td>11</td>\n",
       "      <td>['make a choice and proceed with recipe', 'dep...</td>\n",
       "      <td>autumn is my favorite time of year to cook! th...</td>\n",
       "      <td>['winter squash', 'mexican seasoning', 'mixed ...</td>\n",
       "      <td>7</td>\n",
       "    </tr>\n",
       "    <tr>\n",
       "      <th>1</th>\n",
       "      <td>a bit different  breakfast pizza</td>\n",
       "      <td>31490</td>\n",
       "      <td>30</td>\n",
       "      <td>26278</td>\n",
       "      <td>2002-06-17</td>\n",
       "      <td>['30-minutes-or-less', 'time-to-make', 'course...</td>\n",
       "      <td>[173.4, 18.0, 0.0, 17.0, 22.0, 35.0, 1.0]</td>\n",
       "      <td>9</td>\n",
       "      <td>['preheat oven to 425 degrees f', 'press dough...</td>\n",
       "      <td>this recipe calls for the crust to be prebaked...</td>\n",
       "      <td>['prepared pizza crust', 'sausage patty', 'egg...</td>\n",
       "      <td>6</td>\n",
       "    </tr>\n",
       "    <tr>\n",
       "      <th>2</th>\n",
       "      <td>all in the kitchen  chili</td>\n",
       "      <td>112140</td>\n",
       "      <td>130</td>\n",
       "      <td>196586</td>\n",
       "      <td>2005-02-25</td>\n",
       "      <td>['time-to-make', 'course', 'preparation', 'mai...</td>\n",
       "      <td>[269.8, 22.0, 32.0, 48.0, 39.0, 27.0, 5.0]</td>\n",
       "      <td>6</td>\n",
       "      <td>['brown ground beef in large pot', 'add choppe...</td>\n",
       "      <td>this modified version of 'mom's' chili was a h...</td>\n",
       "      <td>['ground beef', 'yellow onions', 'diced tomato...</td>\n",
       "      <td>13</td>\n",
       "    </tr>\n",
       "  </tbody>\n",
       "</table>\n",
       "</div>"
      ],
      "text/plain": [
       "                                         name      id  minutes  \\\n",
       "0  arriba   baked winter squash mexican style  137739       55   \n",
       "1            a bit different  breakfast pizza   31490       30   \n",
       "2                   all in the kitchen  chili  112140      130   \n",
       "\n",
       "   contributor_id   submitted  \\\n",
       "0           47892  2005-09-16   \n",
       "1           26278  2002-06-17   \n",
       "2          196586  2005-02-25   \n",
       "\n",
       "                                                tags  \\\n",
       "0  ['60-minutes-or-less', 'time-to-make', 'course...   \n",
       "1  ['30-minutes-or-less', 'time-to-make', 'course...   \n",
       "2  ['time-to-make', 'course', 'preparation', 'mai...   \n",
       "\n",
       "                                    nutrition  n_steps  \\\n",
       "0       [51.5, 0.0, 13.0, 0.0, 2.0, 0.0, 4.0]       11   \n",
       "1   [173.4, 18.0, 0.0, 17.0, 22.0, 35.0, 1.0]        9   \n",
       "2  [269.8, 22.0, 32.0, 48.0, 39.0, 27.0, 5.0]        6   \n",
       "\n",
       "                                               steps  \\\n",
       "0  ['make a choice and proceed with recipe', 'dep...   \n",
       "1  ['preheat oven to 425 degrees f', 'press dough...   \n",
       "2  ['brown ground beef in large pot', 'add choppe...   \n",
       "\n",
       "                                         description  \\\n",
       "0  autumn is my favorite time of year to cook! th...   \n",
       "1  this recipe calls for the crust to be prebaked...   \n",
       "2  this modified version of 'mom's' chili was a h...   \n",
       "\n",
       "                                         ingredients  n_ingredients  \n",
       "0  ['winter squash', 'mexican seasoning', 'mixed ...              7  \n",
       "1  ['prepared pizza crust', 'sausage patty', 'egg...              6  \n",
       "2  ['ground beef', 'yellow onions', 'diced tomato...             13  "
      ]
     },
     "execution_count": 14,
     "metadata": {},
     "output_type": "execute_result"
    }
   ],
   "source": [
    "# head method\n",
    "recipe_df.head(3)"
   ]
  },
  {
   "cell_type": "code",
   "execution_count": 15,
   "id": "09efedf8-c579-4853-a887-e61e4dc98d2f",
   "metadata": {},
   "outputs": [
    {
     "name": "stdout",
     "output_type": "stream",
     "text": [
      "<class 'pandas.core.frame.DataFrame'>\n",
      "Index: 226657 entries, 0 to 231636\n",
      "Data columns (total 12 columns):\n",
      " #   Column          Non-Null Count   Dtype \n",
      "---  ------          --------------   ----- \n",
      " 0   name            226657 non-null  object\n",
      " 1   id              226657 non-null  int64 \n",
      " 2   minutes         226657 non-null  int64 \n",
      " 3   contributor_id  226657 non-null  int64 \n",
      " 4   submitted       226657 non-null  object\n",
      " 5   tags            226657 non-null  object\n",
      " 6   nutrition       226657 non-null  object\n",
      " 7   n_steps         226657 non-null  int64 \n",
      " 8   steps           226657 non-null  object\n",
      " 9   description     226657 non-null  object\n",
      " 10  ingredients     226657 non-null  object\n",
      " 11  n_ingredients   226657 non-null  int64 \n",
      "dtypes: int64(5), object(7)\n",
      "memory usage: 22.5+ MB\n"
     ]
    }
   ],
   "source": [
    "# info method\n",
    "recipe_df.info()"
   ]
  },
  {
   "cell_type": "markdown",
   "id": "8be4f08b-78f4-4557-a0d5-5c48d4606007",
   "metadata": {},
   "source": [
    "When merging datasets, IDs are often used as keys. Ensuring they are strings prevents issues where mismatched types (e.g., integer vs. string) could lead to errors or mismatches. So we will change `id` and `contributor_id` to string datatype."
   ]
  },
  {
   "cell_type": "code",
   "execution_count": 16,
   "id": "63530437-7294-4859-9d88-e736a48e722b",
   "metadata": {
    "editable": true,
    "slideshow": {
     "slide_type": ""
    },
    "tags": []
   },
   "outputs": [],
   "source": [
    "# string conversion\n",
    "recipe_df[\"id\"] = recipe_df[\"id\"].astype(str)\n",
    "recipe_df[\"contributor_id\"] = recipe_df[\"contributor_id\"].astype(str)"
   ]
  },
  {
   "cell_type": "markdown",
   "id": "038ffd3c-46eb-467a-9701-620cc5e49dec",
   "metadata": {},
   "source": [
    "Notice that we have some columns that have incorrect datatypes. For instance, the `submitted` column is of type object when it should be of type datime."
   ]
  },
  {
   "cell_type": "markdown",
   "id": "99c1c3c8-4a4b-4e0c-a0dd-bc64bc47de5e",
   "metadata": {},
   "source": [
    "Moreover, if we look at the first entry of the `tags` column, we see that it is of type `str` instead of type `list`. "
   ]
  },
  {
   "cell_type": "code",
   "execution_count": 17,
   "id": "5a94ddef-9c32-47ee-8490-cae84f7b95cb",
   "metadata": {},
   "outputs": [
    {
     "data": {
      "text/plain": [
       "str"
      ]
     },
     "execution_count": 17,
     "metadata": {},
     "output_type": "execute_result"
    }
   ],
   "source": [
    "type(recipe_df[\"tags\"][0])"
   ]
  },
  {
   "cell_type": "markdown",
   "id": "65f8d709-b932-4fdd-a775-14a5e3292948",
   "metadata": {},
   "source": [
    "This is the exact problem with the `nutrition`, `steps` and `ingredients` columns as well."
   ]
  },
  {
   "cell_type": "code",
   "execution_count": 18,
   "id": "77cc8023-3236-4979-8ad7-a2b2a1cb761d",
   "metadata": {},
   "outputs": [
    {
     "name": "stdout",
     "output_type": "stream",
     "text": [
      "Data type of the first entry in 'nutrition' column: <class 'str'>.\n",
      "Data type of the first entry in 'steps' column: <class 'str'>.\n",
      "Data type of the first entry in 'ingredients' column: <class 'str'>.\n",
      "\n"
     ]
    }
   ],
   "source": [
    "#print(f\"Data type for first entry of `nutrition` column:{type(recipe_df[\"nutrition\"][0])} and for first entry of 'steps' column:{type(recipe_df[\"steps\"][0])}\")\n",
    "\n",
    "print(f\"Data type of the first entry in 'nutrition' column: {type(recipe_df['nutrition'][0])}.\")\n",
    "print(f\"Data type of the first entry in 'steps' column: {type(recipe_df['steps'][0])}.\")\n",
    "print(f\"Data type of the first entry in 'ingredients' column: {type(recipe_df['ingredients'][0])}.\")\n",
    "print()\n"
   ]
  },
  {
   "cell_type": "markdown",
   "id": "bf254b46-f6ec-478b-961e-50370c58976d",
   "metadata": {},
   "source": [
    "So let us convert all the aforementioned columns to their correct types. To convert to datetime we will use the `to_datetime()` method from pandas and to convert to list we will use `literal_eval()` method from Abstract Syntax Trees module together with `apply()` method to perform custom, row-wise, or element-wise operations using `lambda` functions."
   ]
  },
  {
   "cell_type": "code",
   "execution_count": null,
   "id": "ef1af6d8-1045-48a0-9e83-42083c04dc1e",
   "metadata": {},
   "outputs": [],
   "source": [
    "# converting submitted column to datetime\n",
    "recipe_df['submitted'] = pd.to_datetime(recipe_df['submitted'])\n",
    "\n",
    "# Conversion into a type list\n",
    "recipe_df[\"tags\"] = recipe_df[\"tags\"].apply(lambda x: ast.literal_eval(x))\n",
    "recipe_df[\"nutrition\"] = recipe_df[\"nutrition\"].apply(lambda x: ast.literal_eval(x))\n",
    "recipe_df[\"steps\"] = recipe_df[\"steps\"].apply(lambda x: ast.literal_eval(x))\n",
    "recipe_df[\"ingredients\"] = recipe_df[\"ingredients\"].apply(lambda x: ast.literal_eval(x))"
   ]
  },
  {
   "cell_type": "code",
   "execution_count": null,
   "id": "8187496c-e90d-436c-b775-5ec91706c522",
   "metadata": {},
   "outputs": [],
   "source": [
    "# sanity check\n",
    "print(f\"Data type of 'submitted' column: {type(recipe_df[\"submitted\"])}\")\n",
    "print(f\"Data type of the first entry in 'nutrition' column: {type(recipe_df['nutrition'][0])}.\")\n",
    "print(f\"Data type of the first entry in 'steps' column: {type(recipe_df['steps'][0])}.\")\n",
    "print(f\"Data type of the first entry in 'ingredients' column: {type(recipe_df['ingredients'][0])}.\")"
   ]
  },
  {
   "cell_type": "markdown",
   "id": "e950db66-9e9a-4186-8bde-0689328170d7",
   "metadata": {},
   "source": [
    "### Detecting and Handling Outliers"
   ]
  },
  {
   "cell_type": "markdown",
   "id": "7d6c7346-0c4c-4213-a1a1-829202da0b97",
   "metadata": {},
   "source": [
    "We now move forwards to handle some outliers in the dataset."
   ]
  },
  {
   "cell_type": "markdown",
   "id": "0764b5bc-2608-4afb-bdcc-dfa3847726b8",
   "metadata": {},
   "source": [
    "To this end, let us look at the `minutes` column. We will use the `describe()` method."
   ]
  },
  {
   "cell_type": "code",
   "execution_count": null,
   "id": "0108b451-9c4b-4abb-9e41-590565d51d9a",
   "metadata": {},
   "outputs": [],
   "source": [
    "recipe_df[\"minutes\"].describe()"
   ]
  },
  {
   "cell_type": "markdown",
   "id": "da519a77-133d-45c0-9227-f49bc323f985",
   "metadata": {},
   "source": [
    "The provided summary statistics suggest there are likely outliers in the dataset. \n",
    "* The standard deviation (std) is extremely high (4.5e+06) compared to the mean (9.6e+03), indicating that the data values vary significantly, which often points to the presence of extreme values.\n",
    "* The maximum value is 2.147484e+09, which is extraordinarily large compared to the upper quartile (75%, which is 65). This disparity suggests the presence of extreme outliers.\n",
    "* The difference between the mean (9.6e+03) and the median (50%, which is 40) indicates a right-skewed distribution. Skewed distributions often contain outliers on the higher end.\n",
    "* Since the focus is on entries with positive values for time, zero time can also be considered an outlier."
   ]
  },
  {
   "cell_type": "code",
   "execution_count": null,
   "id": "2398b24e-aae8-4bc3-9fcc-7f6fdeffab40",
   "metadata": {},
   "outputs": [],
   "source": [
    "# Fraction entries that take zero minutes\n",
    "len(recipe_df[recipe_df[\"minutes\"] == 0]) / len(recipe_df[\"minutes\"]) * 100"
   ]
  },
  {
   "cell_type": "markdown",
   "id": "b2a6af4e-19ea-4281-b3ca-b7385186e5cf",
   "metadata": {},
   "source": [
    "Since there are 0.19% of entries where time is equal to zero, we will modify the dataframe to only include positive values for time."
   ]
  },
  {
   "cell_type": "code",
   "execution_count": null,
   "id": "83d99e8d-5215-4a49-ae39-15e7f2f116d1",
   "metadata": {},
   "outputs": [],
   "source": [
    "plt.title(\"Distribution of minutes (Full Range)\", fontsize=16)\n",
    "plt.xlabel(\"Minutes\", fontsize=12)\n",
    "plt.ylabel(\"Frequency\", fontsize=12)\n",
    "recipe_df[\"minutes\"].hist()"
   ]
  },
  {
   "cell_type": "markdown",
   "id": "3e9cb764-5c02-4d71-a76a-83353a353a09",
   "metadata": {},
   "source": [
    "Since the minutes column is right-skewed, we will focus on the top 95th percentile of the original data"
   ]
  },
  {
   "cell_type": "code",
   "execution_count": null,
   "id": "0e348cd4-bb87-4ef1-b7e5-f58aa8e558aa",
   "metadata": {},
   "outputs": [],
   "source": [
    "plt.title(\"Distribution of minutes (top 95 percentile)\", fontsize=16)\n",
    "plt.xlabel(\"Minutes\", fontsize=12)\n",
    "plt.ylabel(\"Frequency\", fontsize=12)\n",
    "# get the 95 percentile\n",
    "percentile_minutes_95 = recipe_df[\"minutes\"].quantile(.95)\n",
    "# filter the data upto top 95th percentile\n",
    "recipe_df[recipe_df[\"minutes\"] <= percentile_minutes_95][\"minutes\"].hist(bins=30)"
   ]
  },
  {
   "cell_type": "markdown",
   "id": "a9d0ee46-6bf2-4258-a497-a0ba02cddb16",
   "metadata": {},
   "source": [
    "Data points above the 95th percentile are considered outliers based on our design choice. We use this approach because of the following reasons:\n",
    "\n",
    "* By removing the extreme outliers (above 255 minutes), the dataset's metrics are now more representative of the majority of the data\n",
    "* The dataset contained exceptionally high values, such as 2,147,483,647. These values are so far beyond the general distribution that using Tukey’s Rule would likely still retain some of these extreme outliers, potentially skewing the analysis.\n",
    "*  The data appeared heavily skewed to the right, making percentile-based thresholds (e.g., the 95th percentile) more practical for handling skewed distributions. Tukey's Rule can sometimes underperform when data is not symmetrically distributed."
   ]
  },
  {
   "cell_type": "code",
   "execution_count": null,
   "id": "408efd2c-ae4d-4944-bf24-f03558850c59",
   "metadata": {},
   "outputs": [],
   "source": [
    "# minutes outliers\n",
    "minutes_outlier = recipe_df[recipe_df[\"minutes\"] > percentile_minutes_95]"
   ]
  },
  {
   "cell_type": "markdown",
   "id": "d1c91159-a467-40bc-9ec0-7dfb4915d823",
   "metadata": {},
   "source": [
    "Now, we see that  summary statistics below suggest there are likely outliers in the `n_steps` and `n_ingredients` columns."
   ]
  },
  {
   "cell_type": "code",
   "execution_count": null,
   "id": "84bd615c-c790-4f34-95a6-0cce7d3910ca",
   "metadata": {},
   "outputs": [],
   "source": [
    "recipe_df[[\"n_steps\", \"n_ingredients\"]].describe()"
   ]
  },
  {
   "cell_type": "markdown",
   "id": "9378ec2d-267c-41dc-9d02-636e1a260909",
   "metadata": {},
   "source": [
    "We will carry out similar procedure of handling outliers for `n_steps` and `n_ingredients` columns in the dataframe."
   ]
  },
  {
   "cell_type": "code",
   "execution_count": null,
   "id": "1b6059d3-e64f-46f5-94d5-9876444c1bf2",
   "metadata": {},
   "outputs": [],
   "source": [
    "# only include positive values\n",
    "recipe_df = recipe_df[recipe_df[\"n_steps\"] > 0]"
   ]
  },
  {
   "cell_type": "code",
   "execution_count": null,
   "id": "4bc9a674-7ecb-4adc-bfd9-2226bbd4d3e0",
   "metadata": {},
   "outputs": [],
   "source": [
    "plt.title(\"Distribution of n_steps\", fontsize=16)\n",
    "plt.xlabel(\"Number of Steps\", fontsize=12)\n",
    "plt.ylabel(\"Frequency\", fontsize=12)\n",
    "recipe_df[\"n_steps\"].hist(bins=30)"
   ]
  },
  {
   "cell_type": "code",
   "execution_count": null,
   "id": "ccc38e42-e96c-48e2-bb88-b5b50b7f002f",
   "metadata": {},
   "outputs": [],
   "source": [
    "percentile_num_steps_95 = recipe_df[\"n_steps\"].quantile(0.95)\n",
    "\n",
    "# n_steps outliers\n",
    "n_steps_outlier = recipe_df[recipe_df[\"n_steps\"] > percentile_num_steps_95]"
   ]
  },
  {
   "cell_type": "code",
   "execution_count": null,
   "id": "80c3e94a-ac93-440b-a415-a430b34fb672",
   "metadata": {},
   "outputs": [],
   "source": [
    "plt.title(\"Distribution of n_ingredients\", fontsize=16)\n",
    "plt.xlabel(\"Number of Ingredients\", fontsize=12)\n",
    "plt.ylabel(\"Frequency\", fontsize=12)\n",
    "recipe_df[\"n_ingredients\"].hist(bins=20)"
   ]
  },
  {
   "cell_type": "code",
   "execution_count": null,
   "id": "845f960b-4c20-45d7-ab89-0c3a64592354",
   "metadata": {},
   "outputs": [],
   "source": [
    "percentile_n_ingredients_95 = recipe_df[\"n_ingredients\"].quantile(0.95)\n",
    "\n",
    "# n_ingredients outliers\n",
    "n_ingredients_outlier = recipe_df[recipe_df[\"n_ingredients\"] > percentile_n_ingredients_95]"
   ]
  },
  {
   "cell_type": "markdown",
   "id": "c8deeaa0-ea98-4f1e-ae1f-e3072e4401da",
   "metadata": {},
   "source": [
    "With the outlier entries identified, the next step is to remove them. We'll first collect the indices of these outliers and then exclude them from the original DataFrame."
   ]
  },
  {
   "cell_type": "code",
   "execution_count": null,
   "id": "0fa72d10-af13-4719-b0c6-8ffc6a6d1d68",
   "metadata": {},
   "outputs": [],
   "source": [
    "# Combine the indices of outliers from 'minutes', 'n_steps', and 'n_ingredients' columns\n",
    "combined_indices = minutes_outlier.index.union(n_steps_outlier.index).union(n_ingredients_outlier.index)\n",
    "\n",
    "# Drop\n",
    "recipe_df.drop(index=combined_indices, inplace=True)"
   ]
  },
  {
   "cell_type": "markdown",
   "id": "74c962e4-bd4b-4f02-acd0-37dd5f46a112",
   "metadata": {},
   "source": [
    "Next, we will load the second dataset into memory."
   ]
  },
  {
   "cell_type": "code",
   "execution_count": null,
   "id": "ab5efbd2-64d2-49a7-a539-d1e0cadb7eb7",
   "metadata": {},
   "outputs": [],
   "source": [
    "# second dataframe\n",
    "users_df = pd.read_csv(\"C:/Users/pd006/Desktop/internship_search/machine_learning/Recipe-Recommender-System/data/RAW_interactions.csv\")"
   ]
  },
  {
   "cell_type": "markdown",
   "id": "cc4eba1e-17b0-4ae7-8ea0-33369c5141ce",
   "metadata": {},
   "source": [
    "Now let us explore this dataframe some more."
   ]
  },
  {
   "cell_type": "code",
   "execution_count": null,
   "id": "c9fa69d6-5745-44e1-bf68-34d7ffc2e8be",
   "metadata": {},
   "outputs": [],
   "source": [
    "users_df.head()"
   ]
  },
  {
   "cell_type": "code",
   "execution_count": null,
   "id": "903b1849-01ce-4b19-9386-9d9b2f2c4bfa",
   "metadata": {},
   "outputs": [],
   "source": [
    "# dimensions\n",
    "users_df.shape"
   ]
  },
  {
   "cell_type": "markdown",
   "id": "8f89081d-95a2-4b6c-8ee2-e2e9911496df",
   "metadata": {},
   "source": [
    "Like before, we will change the ID type to string and convert the date column to a datetime object."
   ]
  },
  {
   "cell_type": "code",
   "execution_count": null,
   "id": "4f87c95b-cf28-42fb-b90e-b0bb7f5b1f8a",
   "metadata": {},
   "outputs": [],
   "source": [
    "# string conversion for IDs\n",
    "users_df[\"user_id\"] = users_df[\"user_id\"].astype(str)\n",
    "users_df[\"recipe_id\"] = users_df[\"recipe_id\"].astype(str)\n",
    "\n",
    "# conversion to datetime object\n",
    "users_df[\"date\"] = pd.to_datetime(users_df[\"date\"])"
   ]
  },
  {
   "cell_type": "markdown",
   "id": "9b9f5b1a-64a5-446b-8141-066d08264ead",
   "metadata": {},
   "source": [
    "Next, let's focus on the most important column in this DataFrame: `rating`. So let's look at its distribution."
   ]
  },
  {
   "cell_type": "code",
   "execution_count": null,
   "id": "30c341bd-99c5-4bd9-a98c-86eaba2f59bc",
   "metadata": {},
   "outputs": [],
   "source": [
    "plt.title(\"Distribution of rating\", fontsize=16)\n",
    "plt.xlabel(\"Ratings\", fontsize=12)\n",
    "plt.ylabel(\"Frequency\", fontsize=12)\n",
    "users_df[\"rating\"].hist(bins=15)"
   ]
  },
  {
   "cell_type": "markdown",
   "id": "d594468d-59c8-4ac2-bec5-2b3aadd083ca",
   "metadata": {},
   "source": [
    "Upon closely examining the reviews for entries with zero ratings, we found that they often included requests for more information, mentions of incomplete ingredients, or comments suggesting a derivative approach to the original recipe. We can see a glimpse of that below."
   ]
  },
  {
   "cell_type": "code",
   "execution_count": null,
   "id": "b9bebb1a-5ec1-49be-a2ce-0284e0d9a2d1",
   "metadata": {},
   "outputs": [],
   "source": [
    "users_df[users_df[\"rating\"] == 0].head()"
   ]
  },
  {
   "cell_type": "markdown",
   "id": "aa768991-236f-40b4-9f5d-8dc2c62b0ac4",
   "metadata": {},
   "source": [
    "Since our focus is on users who provided ratings for the recipes, we will exclude entries with zero ratings from our analysis."
   ]
  },
  {
   "cell_type": "code",
   "execution_count": null,
   "id": "15c8b170-a020-4f54-b3ac-c509ff3b5913",
   "metadata": {},
   "outputs": [],
   "source": [
    "# only include data points with positive ratings\n",
    "users_df = users_df[users_df[\"rating\"] != 0]"
   ]
  },
  {
   "cell_type": "markdown",
   "id": "700c3762-4580-4666-a42c-16c90098cf58",
   "metadata": {},
   "source": [
    "### Feature engineering"
   ]
  },
  {
   "cell_type": "markdown",
   "id": "98dec7c1-6bfe-4218-afea-33c10c32a990",
   "metadata": {},
   "source": [
    "We will begin with the `recipe_df` DataFrame. The `nutrition` column contains values organized in the following order: calories (#), total fat (PDV), sugar (PDV), sodium (PDV), protein (PDV), saturated fat (PDV), and carbohydrates (PDV). We will create a new column for each value in the nutrition column. Afterward, we will drop the original nutrition column to avoid redundancy."
   ]
  },
  {
   "cell_type": "code",
   "execution_count": null,
   "id": "4dfde27f-66cd-478f-8627-6d6476dd1fc3",
   "metadata": {},
   "outputs": [],
   "source": [
    "nutrition_info = [\"calories\", \"total_fat\", \"sugar\", \"sodium\", \"protein\", \"saturated_fat\", \"carbohydrates\"]"
   ]
  },
  {
   "cell_type": "code",
   "execution_count": null,
   "id": "c1350267-51ee-4425-96ec-a8611a9f2413",
   "metadata": {},
   "outputs": [],
   "source": [
    "# create separate column for each element of each row of nutrition column.\n",
    "for info in nutrition_info:\n",
    "    idx = nutrition_info.index(info)\n",
    "    recipe_df[info] = recipe_df[\"nutrition\"].apply(lambda x: x[idx])"
   ]
  },
  {
   "cell_type": "code",
   "execution_count": null,
   "id": "bf25b0e1-3014-45a2-bdda-c9b070e9482b",
   "metadata": {},
   "outputs": [],
   "source": [
    "# drop\n",
    "recipe_df.drop(columns=[\"nutrition\"], axis=1, inplace=True)"
   ]
  },
  {
   "cell_type": "markdown",
   "id": "54c32626-9145-49eb-b03f-2dbbefd67252",
   "metadata": {},
   "source": [
    "Now using the `tags` column, we will extract new features. As a baseline we will use the features from \"10 Dietary Restrictions All Event Planners Should Know About\" from `www.healthline.com` which can be found [here](https://www.healthline.com/nutrition/most-common-dietary-restrictions) The features are:\n",
    "1. Lactose intolerance,\n",
    "2. Gluten intolerance or sensitivity\n",
    "3. Vegetarianism\n",
    "4. Veganism\n",
    "5. Kosher\n",
    "6. Keto (x)\n",
    "7. Diabetes (x)\n",
    "8. Dairy-free\n",
    "9. Low carb\n",
    "10. Food allergies (x)\n",
    "\n",
    "Notice that we have (x) for the feature that we did not find in the DataFrame. We include these dietary restrictions to make our recipe recommendations more personalized and relevant."
   ]
  },
  {
   "cell_type": "code",
   "execution_count": null,
   "id": "8ea8e242-1b1b-4214-93ac-5420710543d1",
   "metadata": {},
   "outputs": [],
   "source": [
    "# Create 7 new features\n",
    "recipe_df[\"lactose_intolerance\"] = recipe_df[\"tags\"].apply(lambda tags: 1 if any(\"lactose\" in tag for tag in tags) else 0) # lactose_intolerance\n",
    "recipe_df[\"gluten_intolerance\"] = recipe_df[\"tags\"].apply(lambda tags: 1 if any(\"lactose\" in tag for tag in tags) else 0)  # gluten_intolerance\n",
    "recipe_df[\"vegetarianism\"] = recipe_df[\"tags\"].apply(lambda tags: 1 if any(\"lactose\" in tag for tag in tags) else 0)       # vegetarianism\n",
    "recipe_df[\"veganism\"] = recipe_df[\"tags\"].apply(lambda tags: 1 if any(\"lactose\" in tag for tag in tags) else 0)            # veganism\n",
    "recipe_df[\"kosher\"] = recipe_df[\"tags\"].apply(lambda tags: 1 if any(\"lactose\" in tag for tag in tags) else 0)              # kosher\n",
    "recipe_df[\"dairy-free\"] = recipe_df[\"tags\"].apply(lambda tags: 1 if any(\"lactose\" in tag for tag in tags) else 0)          # dairy-free\n",
    "recipe_df[\"low-carb\"] = recipe_df[\"tags\"].apply(lambda tags: 1 if any(\"lactose\" in tag for tag in tags) else 0)            # low-carb"
   ]
  },
  {
   "cell_type": "markdown",
   "id": "aaa8a482-f656-4d01-aff5-cfbf3789eb43",
   "metadata": {},
   "source": [
    "Next, we turn our attention to the `submitted` column. Since it is already a datetime object, we will extract the day, month, and year into separate columns. Afterward, we will drop the original column to eliminate redundancy."
   ]
  },
  {
   "cell_type": "code",
   "execution_count": null,
   "id": "8d77eadd-d740-463a-8e07-edf21f673c59",
   "metadata": {},
   "outputs": [],
   "source": [
    "# get the month, day, year from the submitted column\n",
    "recipe_df[\"submitted_day\"] = recipe_df[\"submitted\"].dt.day\n",
    "recipe_df[\"submitted_month\"] = recipe_df[\"submitted\"].dt.month\n",
    "recipe_df[\"submitted_year\"] = recipe_df[\"submitted\"].dt.year\n",
    "\n",
    "# drop the submitted column\n",
    "recipe_df.drop(columns=[\"submitted\"], axis=1, inplace=True)"
   ]
  },
  {
   "cell_type": "markdown",
   "id": "75ffce64-ee7f-4afa-bef1-afc2ccfb5bf0",
   "metadata": {},
   "source": [
    "The `users_df` DataFrame also contains a column with datetime objects. We will apply the same steps as above: extracting the day, month, and year into separate columns and dropping the original column to avoid redundancy."
   ]
  },
  {
   "cell_type": "code",
   "execution_count": null,
   "id": "a257951a-edd4-4127-a81c-75e28e7ca2e4",
   "metadata": {},
   "outputs": [],
   "source": [
    "# we do the same for the date column in users_df.\n",
    "users_df[\"date_day\"] = users_df[\"date\"].dt.day\n",
    "users_df[\"date_month\"] = users_df[\"date\"].dt.month\n",
    "users_df[\"date_year\"] = users_df[\"date\"].dt.year\n",
    "\n",
    "# drop the date column\n",
    "users_df.drop(columns=[\"date\"], axis=1, inplace=True)"
   ]
  },
  {
   "cell_type": "markdown",
   "id": "86c8609d-2525-40bf-82c1-358dbac3d233",
   "metadata": {},
   "source": [
    "### Building dataset"
   ]
  },
  {
   "cell_type": "markdown",
   "id": "d2a843df-2bc4-4081-895b-3a67989d9112",
   "metadata": {},
   "source": [
    "We create a new DataFrame `users_recipe_rating` using only `recipe_id` and `rating` columns."
   ]
  },
  {
   "cell_type": "code",
   "execution_count": null,
   "id": "472d8f90-a1a0-4186-b742-264a8c4fce67",
   "metadata": {},
   "outputs": [],
   "source": [
    "users_recipe_rating = users_df[[\"recipe_id\", \"rating\"]].copy()"
   ]
  },
  {
   "cell_type": "markdown",
   "id": "66de4889-af3a-49a8-95c8-01b9a57e00ff",
   "metadata": {},
   "source": [
    "Next, we use `groupby()` method and aggregate `agg` with mutiple functions"
   ]
  },
  {
   "cell_type": "code",
   "execution_count": null,
   "id": "86de4742-5e1a-4ee4-978f-52c503edda42",
   "metadata": {},
   "outputs": [],
   "source": [
    "users_recipe_rating = users_recipe_rating.groupby([\"recipe_id\"])[\"rating\"].agg([\"count\", \"mean\"])"
   ]
  },
  {
   "cell_type": "code",
   "execution_count": null,
   "id": "486afd9c-c9ce-4f4d-b564-4237599a9f7d",
   "metadata": {},
   "outputs": [],
   "source": [
    "users_recipe_rating.reset_index(inplace=True)"
   ]
  },
  {
   "cell_type": "markdown",
   "id": "1561b8e7-cb79-4056-abf3-66034332471f",
   "metadata": {},
   "source": [
    "To get an overview of the average rating for each recipe, we’ll group the merged dataset by recipe and calculate the mean rating. This will give us a single rating value per recipe, reflecting its popularity and user satisfaction, which is key for our recommendation system."
   ]
  },
  {
   "cell_type": "code",
   "execution_count": null,
   "id": "2576827b-f9e8-47a3-a79f-352c40449b28",
   "metadata": {},
   "outputs": [],
   "source": [
    "users_recipe_rating.head()"
   ]
  },
  {
   "cell_type": "code",
   "execution_count": null,
   "id": "6cc98fc2-0951-48a1-a2f4-b8b079933299",
   "metadata": {},
   "outputs": [],
   "source": [
    "# round to two decimal places\n",
    "users_recipe_rating[\"mean\"] = users_recipe_rating[\"mean\"].round(2)"
   ]
  },
  {
   "cell_type": "code",
   "execution_count": null,
   "id": "d3de601e-dc20-4289-a608-7d5db92ee097",
   "metadata": {},
   "outputs": [],
   "source": [
    "# rename columns\n",
    "users_recipe_rating.rename(columns={\"mean\": \"avg_rating\", \"count\": \"votes\"}, inplace=True)"
   ]
  },
  {
   "cell_type": "markdown",
   "id": "776da346-0613-4d41-8764-c32590e1ada5",
   "metadata": {},
   "source": [
    "Now, we are ready to merge `recipe_df` and `users_recipe_rating` to create a new DataFrame called `food_df`."
   ]
  },
  {
   "cell_type": "code",
   "execution_count": null,
   "id": "95f044e7-0922-4c91-a803-1cad449822b0",
   "metadata": {},
   "outputs": [],
   "source": [
    "food_df = pd.merge(recipe_df, users_recipe_rating, left_on=\"id\", right_on=\"recipe_id\")"
   ]
  },
  {
   "cell_type": "markdown",
   "id": "3775ae4b-8a8e-4ca4-8b87-4e47086f5f25",
   "metadata": {},
   "source": [
    "Once the dataset is cleaned, it’s important to save it for further analysis. Maintaining clean datasets ensures they can be easily utilized during the exploratory data analysis (EDA) and modelling phase."
   ]
  },
  {
   "cell_type": "code",
   "execution_count": null,
   "id": "5d596559-32c8-4719-b484-ac9a01e924a9",
   "metadata": {},
   "outputs": [],
   "source": [
    "# Save as a pickle object in Python\n",
    "recipe_df.to_pickle(\"C:/Users/pd006/Desktop/internship_search/machine_learning/Recipe-Recommender-System/data/recipe.pkl\")\n",
    "users_df.to_pickle(\"C:/Users/pd006/Desktop/internship_search/machine_learning/Recipe-Recommender-System/data/users.pkl\")\n",
    "food_df.to_pickle(\"C:/Users/pd006/Desktop/internship_search/machine_learning/Recipe-Recommender-System/data/food.pkl\")"
   ]
  },
  {
   "cell_type": "markdown",
   "id": "75daf1c1-3ad9-4109-94ca-cd9c267a70a3",
   "metadata": {},
   "source": [
    "### Conclusion"
   ]
  },
  {
   "cell_type": "markdown",
   "id": "0e611a05-2dd7-459e-adc5-62525e9727e9",
   "metadata": {},
   "source": [
    "During the data preprocessing phase of the recipe recommendation system, the following steps were carried out:\n",
    "* Changed the 'id' columns from integers to strings to ensure consistency and simplify data handling.\n",
    "* Removed rows with missing values in the `name` and `description` columns.\n",
    "* Checked for and removed duplicate rows. Split the `nutrition` column into separate columns for each nutrient (calories, fat, sugar, sodium, protein, saturated fat, carbohydrates).\n",
    "* Extracted month and year from the `submitted` and `date` columns to create 4 new features.\n",
    "* Merged the recipe and user interaction datasets.\n",
    "\n",
    "With the datasets cleaned and processed, we can now move on to the next phase of the project: exploratory data analysis (EDA) and modeling."
   ]
  }
 ],
 "metadata": {
  "kernelspec": {
   "display_name": "Python 3 (ipykernel)",
   "language": "python",
   "name": "python3"
  },
  "language_info": {
   "codemirror_mode": {
    "name": "ipython",
    "version": 3
   },
   "file_extension": ".py",
   "mimetype": "text/x-python",
   "name": "python",
   "nbconvert_exporter": "python",
   "pygments_lexer": "ipython3",
   "version": "3.12.5"
  }
 },
 "nbformat": 4,
 "nbformat_minor": 5
}
