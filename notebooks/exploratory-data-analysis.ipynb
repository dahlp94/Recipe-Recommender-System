{
 "cells": [
  {
   "cell_type": "markdown",
   "id": "37113347-2efe-4aef-b24c-112ff1c5ca7d",
   "metadata": {},
   "source": [
    "# Recipe Recommendation System: EDA and Visualization\n",
    "\n",
    "During preprocessing, we thoroughly cleaned the dataset to ensure it was accurate and consistent. This included fixing data types, removing outliers, and adding new features from existing data. For example, we split nutritional values into separate components, extracted detailed date information, and analyzed dietary preferences. With a clean and organized dataset ready, we can now move on to exploratory data analysis (EDA) to uncover valuable patterns and insights for improving our recipe recommendation system."
   ]
  },
  {
   "cell_type": "code",
   "execution_count": 3,
   "id": "5a735a14-41e0-47d9-9f3d-3040ebd0b734",
   "metadata": {},
   "outputs": [],
   "source": [
    "# import necessary libraries\n",
    "import pandas as pd\n",
    "import matplotlib.pyplot as plt\n",
    "import seaborn as sns"
   ]
  },
  {
   "cell_type": "code",
   "execution_count": 4,
   "id": "2b8c3e53-ca47-439c-8e15-a55b90ebbb9f",
   "metadata": {},
   "outputs": [],
   "source": [
    "# load the dataset\n",
    "recipe_df = pd.read_pickle(\"C:/Users/pd006/Desktop/internship_search/machine_learning/Recipe-Recommender-System/data/recipe.pkl\")"
   ]
  },
  {
   "cell_type": "code",
   "execution_count": 5,
   "id": "83c3a156-2001-4591-8a1e-6519fcfe7a44",
   "metadata": {},
   "outputs": [],
   "source": [
    "dietary_restrictions = [\"lactose_intolerance\", \"gluten_intolerance\", \"vegetarianism\", \"veganism\", \"kosher\", \"dairy-free\", \"low-carb\"]"
   ]
  },
  {
   "cell_type": "code",
   "execution_count": 6,
   "id": "ea94f866-7bc1-4859-8c0e-24053d436588",
   "metadata": {},
   "outputs": [],
   "source": [
    "restriction_counts = recipe_df[dietary_restrictions].sum()"
   ]
  },
  {
   "cell_type": "code",
   "execution_count": 7,
   "id": "345bf510-b770-447b-bc89-0cec3f4f7d6a",
   "metadata": {},
   "outputs": [
    {
     "data": {
      "text/plain": [
       "lactose_intolerance    3647\n",
       "gluten_intolerance     3647\n",
       "vegetarianism          3647\n",
       "veganism               3647\n",
       "kosher                 3647\n",
       "dairy-free             3647\n",
       "low-carb               3647\n",
       "dtype: int64"
      ]
     },
     "execution_count": 7,
     "metadata": {},
     "output_type": "execute_result"
    }
   ],
   "source": [
    "restriction_counts"
   ]
  },
  {
   "cell_type": "code",
   "execution_count": null,
   "id": "f7e69768-f29d-4115-92e1-7a049a347cd1",
   "metadata": {},
   "outputs": [],
   "source": []
  }
 ],
 "metadata": {
  "kernelspec": {
   "display_name": "Python 3 (ipykernel)",
   "language": "python",
   "name": "python3"
  },
  "language_info": {
   "codemirror_mode": {
    "name": "ipython",
    "version": 3
   },
   "file_extension": ".py",
   "mimetype": "text/x-python",
   "name": "python",
   "nbconvert_exporter": "python",
   "pygments_lexer": "ipython3",
   "version": "3.12.5"
  }
 },
 "nbformat": 4,
 "nbformat_minor": 5
}
