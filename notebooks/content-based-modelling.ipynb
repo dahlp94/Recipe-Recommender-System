{
 "cells": [
  {
   "cell_type": "markdown",
   "id": "91300568-bda2-4066-9b7c-b6fabc5fa8bd",
   "metadata": {},
   "source": [
    "# Content based recommendation"
   ]
  },
  {
   "cell_type": "markdown",
   "id": "00d9af7e-b2a4-4916-a00f-1178d209af78",
   "metadata": {},
   "source": [
    "Let us start by importing necessary libraries."
   ]
  },
  {
   "cell_type": "code",
   "execution_count": 1,
   "id": "a9728cec-290d-4e91-8c96-e88c99191394",
   "metadata": {},
   "outputs": [],
   "source": [
    "import pandas as pd\n",
    "import matplotlib.pyplot as plt\n",
    "import seaborn as sns"
   ]
  },
  {
   "cell_type": "markdown",
   "id": "e4936a03-46fe-41fb-84fa-58716df07f0c",
   "metadata": {},
   "source": [
    "Now let us load the pickle object as the data."
   ]
  },
  {
   "cell_type": "code",
   "execution_count": null,
   "id": "09f3ebfb-c1c5-44bb-85a1-d41feec4bfb0",
   "metadata": {},
   "outputs": [],
   "source": []
  }
 ],
 "metadata": {
  "kernelspec": {
   "display_name": "Python 3 (ipykernel)",
   "language": "python",
   "name": "python3"
  },
  "language_info": {
   "codemirror_mode": {
    "name": "ipython",
    "version": 3
   },
   "file_extension": ".py",
   "mimetype": "text/x-python",
   "name": "python",
   "nbconvert_exporter": "python",
   "pygments_lexer": "ipython3",
   "version": "3.12.3"
  }
 },
 "nbformat": 4,
 "nbformat_minor": 5
}
