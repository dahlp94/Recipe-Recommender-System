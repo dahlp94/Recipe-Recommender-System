{
 "cells": [
  {
   "cell_type": "markdown",
   "id": "91300568-bda2-4066-9b7c-b6fabc5fa8bd",
   "metadata": {},
   "source": [
    "# Content based recommendation  \n",
    "\n",
    "Content-based recommendation focuses on suggesting recipes based on the features of the recipes themselves, such as ingredients, dietary preferences, and nutritional values. By analyzing these features, the system can recommend similar recipes to users based on their previous interactions or preferences, helping to personalize suggestions effectively. Now that we have preprocessed the data, we will build a content-based recommendation system."
   ]
  },
  {
   "cell_type": "markdown",
   "id": "00d9af7e-b2a4-4916-a00f-1178d209af78",
   "metadata": {},
   "source": [
    "Let us start by importing necessary libraries."
   ]
  },
  {
   "cell_type": "code",
   "execution_count": 3,
   "id": "a9728cec-290d-4e91-8c96-e88c99191394",
   "metadata": {},
   "outputs": [],
   "source": [
    "import numpy as np\n",
    "import pandas as pd\n",
    "import matplotlib.pyplot as plt\n",
    "import seaborn as sns\n",
    "import pickle"
   ]
  },
  {
   "cell_type": "markdown",
   "id": "e4936a03-46fe-41fb-84fa-58716df07f0c",
   "metadata": {},
   "source": [
    "Now let us load the pickle object as the data."
   ]
  },
  {
   "cell_type": "code",
   "execution_count": 4,
   "id": "09f3ebfb-c1c5-44bb-85a1-d41feec4bfb0",
   "metadata": {},
   "outputs": [
    {
     "ename": "TypeError",
     "evalue": "'module' object is not callable",
     "output_type": "error",
     "traceback": [
      "\u001b[1;31m---------------------------------------------------------------------\u001b[0m",
      "\u001b[1;31mTypeError\u001b[0m                           Traceback (most recent call last)",
      "Cell \u001b[1;32mIn[4], line 1\u001b[0m\n\u001b[1;32m----> 1\u001b[0m data \u001b[38;5;241m=\u001b[39m pickle(\u001b[38;5;124m\"\u001b[39m\u001b[38;5;124mC:/Users/pd006/Desktop/internship_search/machine_learning/Recipe-Recommender-System/data/food.pkl\u001b[39m\u001b[38;5;124m\"\u001b[39m)\n",
      "\u001b[1;31mTypeError\u001b[0m: 'module' object is not callable"
     ]
    }
   ],
   "source": [
    "data = pickle(\"C:/Users/pd006/Desktop/internship_search/machine_learning/Recipe-Recommender-System/data/food.pkl\")"
   ]
  },
  {
   "cell_type": "code",
   "execution_count": 5,
   "id": "f1b5ef26-3e04-4a81-993b-735657106c02",
   "metadata": {},
   "outputs": [
    {
     "ename": "NameError",
     "evalue": "name 'data' is not defined",
     "output_type": "error",
     "traceback": [
      "\u001b[1;31m---------------------------------------------------------------------\u001b[0m",
      "\u001b[1;31mNameError\u001b[0m                           Traceback (most recent call last)",
      "Cell \u001b[1;32mIn[5], line 1\u001b[0m\n\u001b[1;32m----> 1\u001b[0m \u001b[38;5;28mlen\u001b[39m(data)\n",
      "\u001b[1;31mNameError\u001b[0m: name 'data' is not defined"
     ]
    }
   ],
   "source": [
    "len(data)"
   ]
  },
  {
   "cell_type": "markdown",
   "id": "bc78fcfc-807c-43cf-82ac-331de1e99692",
   "metadata": {},
   "source": [
    "Since we have around 196k data points, we will use 25% of the data to speed up processing during the early stages of model development. This enables faster iterations without needing the full dataset."
   ]
  },
  {
   "cell_type": "code",
   "execution_count": 8,
   "id": "e33e79c2-b9b2-4f27-ab3b-25d7edbc39b5",
   "metadata": {},
   "outputs": [],
   "source": [
    "sampled_data = data.sample(frac=0.25, random_state=0)"
   ]
  },
  {
   "cell_type": "markdown",
   "id": "e3881844-e428-440f-8b7c-e834ef0d31b0",
   "metadata": {},
   "source": [
    "We now will need the following libraries for text preprocessing."
   ]
  },
  {
   "cell_type": "code",
   "execution_count": 9,
   "id": "5c350753-0162-4d0f-b880-c6f73a629019",
   "metadata": {},
   "outputs": [
    {
     "name": "stderr",
     "output_type": "stream",
     "text": [
      "[nltk_data] Downloading package stopwords to\n",
      "[nltk_data]     C:\\Users\\pd006\\AppData\\Roaming\\nltk_data...\n",
      "[nltk_data]   Package stopwords is already up-to-date!\n"
     ]
    }
   ],
   "source": [
    "import string\n",
    "import nltk\n",
    "nltk.download(\"stopwords\")\n",
    "from nltk.corpus import stopwords"
   ]
  },
  {
   "cell_type": "markdown",
   "id": "92d30ee6-828d-45b9-a913-5865d722ecfb",
   "metadata": {},
   "source": [
    "The PorterStemmer is computationally efficient, making it suitable for large datasets. Its rule-based approach is straightforward and easier to implement compared to more complex stemming algorithms. Since it follows a fixed set of rules, it produces consistent outputs. Therefore, we will use it."
   ]
  },
  {
   "cell_type": "code",
   "execution_count": 10,
   "id": "41598cf2-678f-4fed-94eb-53499e0efac5",
   "metadata": {},
   "outputs": [],
   "source": [
    "from nltk.stem import PorterStemmer"
   ]
  },
  {
   "cell_type": "code",
   "execution_count": 11,
   "id": "75cc1ce6-4462-4837-89e7-660875f3e3c0",
   "metadata": {},
   "outputs": [],
   "source": [
    "stemmer = PorterStemmer()\n",
    "stop_words = stopwords.words(\"english\")"
   ]
  },
  {
   "cell_type": "code",
   "execution_count": 13,
   "id": "3255fe86-1422-4797-945e-f67da0facc0b",
   "metadata": {},
   "outputs": [],
   "source": [
    "def recipe_tokenizer(sentence):\n",
    "    # Remove punctuation by replacing it with spaces and convert the sentence to lowercase\n",
    "    sentence = \" \".join([char if char not in string.punctuation else \" \" for char in sentence]).lower()\n",
    "    # Split the cleaned sentence into a list of words (tokens)\n",
    "    words = sentence.split()\n",
    "    # Stem each word and exclude stopwords from the result\n",
    "    return [stemmer.stem(word) for word in words if word not in stop_words]\n"
   ]
  },
  {
   "cell_type": "markdown",
   "id": "a8d0f493-8124-4adf-82ae-82be79034805",
   "metadata": {},
   "source": [
    "Now we will need the following libraries for word embeddings, turning text into numerical data, and comparing text similarity, making text analysis easier."
   ]
  },
  {
   "cell_type": "code",
   "execution_count": 14,
   "id": "a3c49643-f74b-4bb7-a5d2-5dbda269ba71",
   "metadata": {},
   "outputs": [],
   "source": [
    "import gensim\n",
    "from gensim.models import Word2Vec\n",
    "import pickle\n",
    "from sklearn.feature_extraction.text import TfidfVectorizer\n",
    "from sklearn.metrics.pairwise import cosine_similarity"
   ]
  },
  {
   "cell_type": "code",
   "execution_count": 18,
   "id": "3ca592e7-b4fd-439a-bbb2-fe28eb53f5b2",
   "metadata": {},
   "outputs": [],
   "source": [
    "# Function for word embedding using Word2Vec\n",
    "def word_embedding(data, column):\n",
    "    # Tokenize text data and train Word2Vec model\n",
    "    model = Word2Vec(data[column].apply(recipe_tokenizer), vector_size=150, window=5, min_count=1)\n",
    "    \n",
    "    # Return word embeddings\n",
    "    return {word: model.wv[word] for word in model.wv.index_to_key}"
   ]
  },
  {
   "cell_type": "code",
   "execution_count": null,
   "id": "10d0750f-df8b-463c-9a2b-0ad2cd7a3dc8",
   "metadata": {},
   "outputs": [],
   "source": [
    "def precompute_embeddings(data):\n",
    "    # Get word embeddings for ingredients\n",
    "    embeddings = word_embedding(data, \"ingredients\")\n",
    "    # Combine 'name', 'tags', and 'description' into one text column and preprocess\n",
    "    data['text_data'] = data[['name', 'tags', 'description']].astype(str).agg(' '.join, axis=1).str.lower()\n",
    "    "
   ]
  },
  {
   "cell_type": "code",
   "execution_count": null,
   "id": "40ca8505-eb15-45ef-a831-b5f85fa43f5b",
   "metadata": {},
   "outputs": [],
   "source": []
  },
  {
   "cell_type": "code",
   "execution_count": null,
   "id": "7bfb177e-d199-4665-92e8-cced4c6800b7",
   "metadata": {},
   "outputs": [],
   "source": []
  },
  {
   "cell_type": "code",
   "execution_count": null,
   "id": "3596ac06-c6c0-4750-918d-24f24b3e12db",
   "metadata": {},
   "outputs": [],
   "source": []
  },
  {
   "cell_type": "code",
   "execution_count": null,
   "id": "1610c4c2-c419-4472-b5c4-7c5d3c124ee8",
   "metadata": {},
   "outputs": [],
   "source": []
  },
  {
   "cell_type": "code",
   "execution_count": null,
   "id": "e0bfd9a6-e039-4008-a940-5a85a8903eb8",
   "metadata": {},
   "outputs": [],
   "source": []
  },
  {
   "cell_type": "code",
   "execution_count": null,
   "id": "79aae2e1-ca61-4cec-9f27-51e363f23434",
   "metadata": {},
   "outputs": [],
   "source": []
  },
  {
   "cell_type": "code",
   "execution_count": null,
   "id": "de1321e8-a8b6-486a-8e9c-a55cc1430cd6",
   "metadata": {},
   "outputs": [],
   "source": []
  },
  {
   "cell_type": "code",
   "execution_count": null,
   "id": "bd95fa2e-dfcf-47b4-937b-884f891e61e0",
   "metadata": {},
   "outputs": [],
   "source": []
  },
  {
   "cell_type": "code",
   "execution_count": null,
   "id": "57c0d8d0-43bf-40ed-81a6-6043eeca280f",
   "metadata": {},
   "outputs": [],
   "source": []
  },
  {
   "cell_type": "code",
   "execution_count": null,
   "id": "a507f898-3e68-42a6-8f77-43baece40b9f",
   "metadata": {},
   "outputs": [],
   "source": []
  },
  {
   "cell_type": "code",
   "execution_count": null,
   "id": "105075f2-c79b-4a09-b776-3523d9905eae",
   "metadata": {},
   "outputs": [],
   "source": []
  },
  {
   "cell_type": "code",
   "execution_count": 40,
   "id": "90c5a8a1-ea92-4e1b-ba6f-77128ec45c45",
   "metadata": {},
   "outputs": [
    {
     "data": {
      "text/html": [
       "<div>\n",
       "<style scoped>\n",
       "    .dataframe tbody tr th:only-of-type {\n",
       "        vertical-align: middle;\n",
       "    }\n",
       "\n",
       "    .dataframe tbody tr th {\n",
       "        vertical-align: top;\n",
       "    }\n",
       "\n",
       "    .dataframe thead th {\n",
       "        text-align: right;\n",
       "    }\n",
       "</style>\n",
       "<table border=\"1\" class=\"dataframe\">\n",
       "  <thead>\n",
       "    <tr style=\"text-align: right;\">\n",
       "      <th></th>\n",
       "      <th>name</th>\n",
       "      <th>tags</th>\n",
       "      <th>description</th>\n",
       "    </tr>\n",
       "  </thead>\n",
       "  <tbody>\n",
       "    <tr>\n",
       "      <th>21015</th>\n",
       "      <td>black pepper chicken wings with herbed blue dip</td>\n",
       "      <td>[60-minutes-or-less, time-to-make, course, pre...</td>\n",
       "      <td>one of my favorite chicken wing recipes.</td>\n",
       "    </tr>\n",
       "  </tbody>\n",
       "</table>\n",
       "</div>"
      ],
      "text/plain": [
       "                                                  name  \\\n",
       "21015  black pepper chicken wings with herbed blue dip   \n",
       "\n",
       "                                                    tags  \\\n",
       "21015  [60-minutes-or-less, time-to-make, course, pre...   \n",
       "\n",
       "                                    description  \n",
       "21015  one of my favorite chicken wing recipes.  "
      ]
     },
     "execution_count": 40,
     "metadata": {},
     "output_type": "execute_result"
    }
   ],
   "source": [
    "sampled_data[['name', 'tags', 'description']].head(1)"
   ]
  },
  {
   "cell_type": "code",
   "execution_count": 33,
   "id": "9cd331cf-a5fd-4d1b-8aa0-6df690a59dfd",
   "metadata": {},
   "outputs": [
    {
     "data": {
      "text/plain": [
       "['60-minutes-or-less',\n",
       " 'time-to-make',\n",
       " 'course',\n",
       " 'preparation',\n",
       " 'very-low-carbs',\n",
       " 'main-dish',\n",
       " 'dietary',\n",
       " 'one-dish-meal',\n",
       " 'low-carb',\n",
       " 'low-in-something']"
      ]
     },
     "execution_count": 33,
     "metadata": {},
     "output_type": "execute_result"
    }
   ],
   "source": [
    "sampled_data[['name', 'tags', 'description']].head(2)[\"tags\"][21015]"
   ]
  },
  {
   "cell_type": "code",
   "execution_count": 34,
   "id": "18ff034b-3f4c-4667-b3c5-05ad238d135f",
   "metadata": {},
   "outputs": [
    {
     "data": {
      "text/plain": [
       "\"['60-minutes-or-less', 'time-to-make', 'course', 'preparation', 'very-low-carbs', 'main-dish', 'dietary', 'one-dish-meal', 'low-carb', 'low-in-something']\""
      ]
     },
     "execution_count": 34,
     "metadata": {},
     "output_type": "execute_result"
    }
   ],
   "source": [
    "sampled_data[['name', 'tags', 'description']].head(2).astype(str)[\"tags\"][21015]"
   ]
  },
  {
   "cell_type": "code",
   "execution_count": null,
   "id": "d9064968-3aad-4c67-a2c7-925fe017865f",
   "metadata": {},
   "outputs": [],
   "source": []
  },
  {
   "cell_type": "code",
   "execution_count": 38,
   "id": "ed94c1a0-9304-4d3f-9d56-f7ca5da7bb2d",
   "metadata": {},
   "outputs": [
    {
     "data": {
      "text/plain": [
       "\"black pepper chicken wings with herbed blue dip ['60-minutes-or-less', 'time-to-make', 'course', 'preparation', 'very-low-carbs', 'main-dish', 'dietary', 'one-dish-meal', 'low-carb', 'low-in-something'] one of my favorite chicken wing recipes.\""
      ]
     },
     "execution_count": 38,
     "metadata": {},
     "output_type": "execute_result"
    }
   ],
   "source": [
    "sampled_data[['name', 'tags', 'description']].head(2).astype(str).agg(' '.join, axis=1)[21015]\n",
    "#sampled_data[['name', 'tags', 'description']].astype(str).agg(' '.join, axis=1).str.lower()"
   ]
  },
  {
   "cell_type": "code",
   "execution_count": null,
   "id": "859ecbd9-45ee-4966-9d3b-19bcedde6d3b",
   "metadata": {},
   "outputs": [],
   "source": []
  },
  {
   "cell_type": "code",
   "execution_count": 50,
   "id": "83f884fb-3107-43d4-8440-96cebb3e9e9d",
   "metadata": {},
   "outputs": [
    {
     "data": {
      "text/plain": [
       "'black pepper chicken wings with herbed blue dip one of my favorite chicken wing recipes.'"
      ]
     },
     "execution_count": 50,
     "metadata": {},
     "output_type": "execute_result"
    }
   ],
   "source": [
    "z = sampled_data[['name', 'description']].head(2).astype(str).agg(' '.join, axis=1)[21015]\n",
    "z"
   ]
  },
  {
   "cell_type": "code",
   "execution_count": 51,
   "id": "36a65d0f-0a8c-4ed4-b468-df7e1148e494",
   "metadata": {},
   "outputs": [
    {
     "data": {
      "text/plain": [
       "'60-minutes-or-less time-to-make course preparation very-low-carbs main-dish dietary one-dish-meal low-carb low-in-something'"
      ]
     },
     "execution_count": 51,
     "metadata": {},
     "output_type": "execute_result"
    }
   ],
   "source": [
    "zz = \" \".join(sampled_data[['tags']].head(1)[\"tags\"].values[0])\n",
    "zz"
   ]
  },
  {
   "cell_type": "code",
   "execution_count": 52,
   "id": "05e165ed-0d6b-44f1-aec5-4d4f80963858",
   "metadata": {},
   "outputs": [
    {
     "data": {
      "text/plain": [
       "'black pepper chicken wings with herbed blue dip one of my favorite chicken wing recipes.60-minutes-or-less time-to-make course preparation very-low-carbs main-dish dietary one-dish-meal low-carb low-in-something'"
      ]
     },
     "execution_count": 52,
     "metadata": {},
     "output_type": "execute_result"
    }
   ],
   "source": [
    "z + zz"
   ]
  },
  {
   "cell_type": "code",
   "execution_count": 54,
   "id": "5b4aec12-906d-4ecf-8bdf-febc0a448199",
   "metadata": {},
   "outputs": [
    {
     "data": {
      "text/plain": [
       "'black pepper chicken wings with herbed blue dip one of my favorite chicken wing recipes.'"
      ]
     },
     "execution_count": 54,
     "metadata": {},
     "output_type": "execute_result"
    }
   ],
   "source": [
    "sampled_data[['name', 'description']].head(2).astype(str).agg(' '.join, axis=1)[21015]"
   ]
  },
  {
   "cell_type": "code",
   "execution_count": 60,
   "id": "d48c95aa-3200-45b4-a511-fa44754be864",
   "metadata": {},
   "outputs": [],
   "source": [
    "sampled_data[\"tags\"] = sampled_data[\"tags\"].astype(str)"
   ]
  },
  {
   "cell_type": "code",
   "execution_count": 64,
   "id": "5e1528da-dd20-4b58-83a5-9ed40c604518",
   "metadata": {},
   "outputs": [
    {
     "data": {
      "text/plain": [
       "\"black pepper chicken wings with herbed blue dip ['60-minutes-or-less', 'time-to-make', 'course', 'preparation', 'very-low-carbs', 'main-dish', 'dietary', 'one-dish-meal', 'low-carb', 'low-in-something'] one of my favorite chicken wing recipes.\""
      ]
     },
     "execution_count": 64,
     "metadata": {},
     "output_type": "execute_result"
    }
   ],
   "source": [
    "sampled_data[['name', 'tags', 'description']].head(2).astype(str).agg(' '.join, axis=1).str.lower()[21015]"
   ]
  },
  {
   "cell_type": "code",
   "execution_count": null,
   "id": "4a409b3a-fa7d-496a-b16d-138eb3eca64f",
   "metadata": {},
   "outputs": [],
   "source": []
  }
 ],
 "metadata": {
  "kernelspec": {
   "display_name": "Python 3 (ipykernel)",
   "language": "python",
   "name": "python3"
  },
  "language_info": {
   "codemirror_mode": {
    "name": "ipython",
    "version": 3
   },
   "file_extension": ".py",
   "mimetype": "text/x-python",
   "name": "python",
   "nbconvert_exporter": "python",
   "pygments_lexer": "ipython3",
   "version": "3.12.3"
  }
 },
 "nbformat": 4,
 "nbformat_minor": 5
}
