{
 "cells": [
  {
   "cell_type": "markdown",
   "id": "91300568-bda2-4066-9b7c-b6fabc5fa8bd",
   "metadata": {},
   "source": [
    "# Content Based Recommendation \n",
    "\n",
    "Content-based recommendation focuses on suggesting recipes based on the features of the recipes themselves, such as ingredients, dietary preferences, and nutritional values. By analyzing these features, the system can recommend similar recipes to users based on their previous interactions or preferences, helping to personalize suggestions effectively. Now that we have preprocessed the data, we will build a content-based recommendation system.\n",
    "\n",
    "\n",
    "## Introduction  \n",
    "\n",
    "In our **Recipe Recommender System**, we leverage **natural language processing (NLP)** techniques to enhance recipe recommendations. By combining **Word2Vec embeddings** for ingredients and **TF-IDF vectorization** for textual data, we ensure accurate and meaningful suggestions based on user input.  \n"
   ]
  },
  {
   "cell_type": "markdown",
   "id": "00d9af7e-b2a4-4916-a00f-1178d209af78",
   "metadata": {},
   "source": [
    "Let us start by importing necessary libraries."
   ]
  },
  {
   "cell_type": "code",
   "execution_count": 29,
   "id": "73bce4a9-5a07-44e5-adf9-c94151a6b792",
   "metadata": {},
   "outputs": [],
   "source": [
    "import pandas as pd\n",
    "from gensim.models import Word2Vec\n",
    "from sklearn.feature_extraction.text import TfidfVectorizer\n",
    "from sklearn.metrics.pairwise import cosine_similarity\n",
    "from nltk.tokenize import word_tokenize\n",
    "import numpy as np"
   ]
  },
  {
   "cell_type": "markdown",
   "id": "751d7c10-2243-4c1e-95e2-965cc4f70cd0",
   "metadata": {},
   "source": [
    "### High-Level Plan\n",
    "**Weighting:**  \n",
    "Ingredients and tags will be weighted the highest.\n",
    "Name and description will have lower weights.\n",
    "\n",
    "**User Input:**  \n",
    "The user will provide everything as a single search string (e.g., \"Italian pasta with tomato and cheese\").\n",
    "The system will parse the input to extract relevant information (e.g., ingredients, cuisine type, etc.).\n",
    "\n",
    "**Recommendations:**  \n",
    "The system will return the top 5 recommendations based on the combined similarity score.\n",
    "\n",
    "**Steps:**\n",
    "- Train Word2Vec on the ingredients column.\n",
    "- Create TF-IDF vectors for the text_data column (which includes name, tags, and description).\n",
    "- Combine the Word2Vec embeddings and TF-IDF vectors with appropriate weights.\n",
    "- Calculate similarity scores between the user input and the dataset.\n",
    "- Return the top 5 recipes."
   ]
  },
  {
   "cell_type": "code",
   "execution_count": 30,
   "id": "73e40907-8cb5-4790-b8b2-5e91ace381d9",
   "metadata": {},
   "outputs": [],
   "source": [
    "df = pd.read_pickle(\"C:/Users/pd006/Desktop/internship_search/machine_learning/Recipe-Recommender-System/data/food.pkl\")"
   ]
  },
  {
   "cell_type": "code",
   "execution_count": 31,
   "id": "5483d6a3-1e8c-4204-8f18-701dbad75750",
   "metadata": {},
   "outputs": [],
   "source": [
    "# Combine 'name', 'tags', and 'description' into 'text_data'\n",
    "df['text_data'] = df['name'] + ' ' + df['tags'].apply(' '.join) + ' ' + df['description']"
   ]
  },
  {
   "cell_type": "code",
   "execution_count": 32,
   "id": "b1ec6da9-2cfa-4ff6-bde2-4424c6fbc68f",
   "metadata": {},
   "outputs": [],
   "source": [
    "# Train Word2Vec on ingredients\n",
    "ingredient_sentences = df['ingredients'].tolist()\n",
    "word2vec_model = Word2Vec(sentences=ingredient_sentences, vector_size=100, window=5, min_count=1, workers=4)"
   ]
  },
  {
   "cell_type": "code",
   "execution_count": 33,
   "id": "53ee22f5-d977-4241-8ee6-91da11048ffb",
   "metadata": {},
   "outputs": [],
   "source": [
    "# Function to get average Word2Vec vector for a list of ingredients\n",
    "def get_average_word2vec(ingredients, model):\n",
    "    vectors = [model.wv[word] for word in ingredients if word in model.wv]\n",
    "    if len(vectors) > 0:\n",
    "        return np.mean(vectors, axis=0)\n",
    "    else:\n",
    "        return np.zeros(model.vector_size)"
   ]
  },
  {
   "cell_type": "code",
   "execution_count": 34,
   "id": "f4dd1745-fbb7-492f-b449-a86d80526503",
   "metadata": {},
   "outputs": [],
   "source": [
    "# Convert 'text_data' to TF-IDF vectors\n",
    "tfidf_vectorizer = TfidfVectorizer(stop_words='english')\n",
    "tfidf_matrix = tfidf_vectorizer.fit_transform(df['text_data'])\n"
   ]
  },
  {
   "cell_type": "code",
   "execution_count": 35,
   "id": "c76b8a87-26ad-4b7a-b31f-0a45889174e8",
   "metadata": {},
   "outputs": [],
   "source": [
    "# Function to recommend recipes\n",
    "def recommend_recipes(user_input, df, word2vec_model, tfidf_vectorizer, tfidf_matrix, top_n=5):\n",
    "    # Tokenize user input\n",
    "    user_tokens = word_tokenize(user_input.lower())\n",
    "    \n",
    "    # Extract ingredients from user input (assuming ingredients are known words in the Word2Vec model)\n",
    "    user_ingredients = [word for word in user_tokens if word in word2vec_model.wv]\n",
    "    \n",
    "    # Get Word2Vec vector for user ingredients\n",
    "    user_ingredient_vector = get_average_word2vec(user_ingredients, word2vec_model)\n",
    "    \n",
    "    # Get TF-IDF vector for user input\n",
    "    user_tfidf_vector = tfidf_vectorizer.transform([user_input])\n",
    "    \n",
    "    # Calculate cosine similarity for Word2Vec (ingredients)\n",
    "    ingredient_similarities = []\n",
    "    for ingredients in df['ingredients']:\n",
    "        recipe_ingredient_vector = get_average_word2vec(ingredients, word2vec_model)\n",
    "        similarity = cosine_similarity([user_ingredient_vector], [recipe_ingredient_vector])[0][0]\n",
    "        ingredient_similarities.append(similarity)\n",
    "    \n",
    "    # Calculate cosine similarity for TF-IDF (text_data)\n",
    "    tfidf_similarities = cosine_similarity(user_tfidf_vector, tfidf_matrix).flatten()\n",
    "    \n",
    "    # Combine similarities with weights\n",
    "    # Ingredients and tags are weighted highest (0.6), name and description lower (0.4)\n",
    "    combined_similarities = 0.6 * np.array(ingredient_similarities) + 0.4 * tfidf_similarities\n",
    "    \n",
    "    # Sort recipes by combined similarity\n",
    "    df['similarity'] = combined_similarities\n",
    "    recommendations = df.sort_values(by='similarity', ascending=False).head(top_n)\n",
    "    \n",
    "    return recommendations[['name', 'tags', 'description', 'ingredients', 'similarity']]\n"
   ]
  },
  {
   "cell_type": "code",
   "execution_count": 38,
   "id": "83033bb8-103d-43af-8181-999f7a9518a4",
   "metadata": {},
   "outputs": [
    {
     "name": "stderr",
     "output_type": "stream",
     "text": [
      "[nltk_data] Downloading package punkt_tab to\n",
      "[nltk_data]     C:\\Users\\pd006\\AppData\\Roaming\\nltk_data...\n",
      "[nltk_data]   Unzipping tokenizers\\punkt_tab.zip.\n"
     ]
    },
    {
     "data": {
      "text/plain": [
       "True"
      ]
     },
     "execution_count": 38,
     "metadata": {},
     "output_type": "execute_result"
    }
   ],
   "source": [
    "import nltk\n",
    "nltk.download('punkt_tab')"
   ]
  },
  {
   "cell_type": "code",
   "execution_count": 43,
   "id": "8c95a934-2762-4e4e-b5b2-7ec20dda6565",
   "metadata": {},
   "outputs": [],
   "source": [
    "# Example usage\n",
    "user_input = \"spicy chicken noodles\"\n",
    "recommendations = recommend_recipes(user_input, df, word2vec_model, tfidf_vectorizer, tfidf_matrix, top_n=5)"
   ]
  },
  {
   "cell_type": "code",
   "execution_count": 44,
   "id": "2631664c-4002-49d3-9c83-ec16078bef75",
   "metadata": {},
   "outputs": [
    {
     "data": {
      "text/html": [
       "<div>\n",
       "<style scoped>\n",
       "    .dataframe tbody tr th:only-of-type {\n",
       "        vertical-align: middle;\n",
       "    }\n",
       "\n",
       "    .dataframe tbody tr th {\n",
       "        vertical-align: top;\n",
       "    }\n",
       "\n",
       "    .dataframe thead th {\n",
       "        text-align: right;\n",
       "    }\n",
       "</style>\n",
       "<table border=\"1\" class=\"dataframe\">\n",
       "  <thead>\n",
       "    <tr style=\"text-align: right;\">\n",
       "      <th></th>\n",
       "      <th>name</th>\n",
       "      <th>ingredients</th>\n",
       "    </tr>\n",
       "  </thead>\n",
       "  <tbody>\n",
       "    <tr>\n",
       "      <th>165647</th>\n",
       "      <td>spicy cheesy chicken noodles</td>\n",
       "      <td>[velveeta cheese, rotel tomatoes, rotini noodl...</td>\n",
       "    </tr>\n",
       "    <tr>\n",
       "      <th>121681</th>\n",
       "      <td>nif s butterflied grilled whole chicken</td>\n",
       "      <td>[chicken, dry rub seasonings]</td>\n",
       "    </tr>\n",
       "    <tr>\n",
       "      <th>54449</th>\n",
       "      <td>creamy skillet chicken and noodles</td>\n",
       "      <td>[chicken breast, onion, chicken broth, condens...</td>\n",
       "    </tr>\n",
       "    <tr>\n",
       "      <th>194870</th>\n",
       "      <td>yummy chicken casserole</td>\n",
       "      <td>[chicken breasts, chicken flavor stuffing mix,...</td>\n",
       "    </tr>\n",
       "    <tr>\n",
       "      <th>141225</th>\n",
       "      <td>puerto rican chicken</td>\n",
       "      <td>[chicken, adobo seasoning, season-all salt]</td>\n",
       "    </tr>\n",
       "  </tbody>\n",
       "</table>\n",
       "</div>"
      ],
      "text/plain": [
       "                                           name  \\\n",
       "165647             spicy cheesy chicken noodles   \n",
       "121681  nif s butterflied grilled whole chicken   \n",
       "54449        creamy skillet chicken and noodles   \n",
       "194870                  yummy chicken casserole   \n",
       "141225                     puerto rican chicken   \n",
       "\n",
       "                                              ingredients  \n",
       "165647  [velveeta cheese, rotel tomatoes, rotini noodl...  \n",
       "121681                      [chicken, dry rub seasonings]  \n",
       "54449   [chicken breast, onion, chicken broth, condens...  \n",
       "194870  [chicken breasts, chicken flavor stuffing mix,...  \n",
       "141225        [chicken, adobo seasoning, season-all salt]  "
      ]
     },
     "execution_count": 44,
     "metadata": {},
     "output_type": "execute_result"
    }
   ],
   "source": [
    "recommendations[[\"name\", \"ingredients\"]]"
   ]
  },
  {
   "cell_type": "markdown",
   "id": "032dbe4a-ec0f-4b07-b90c-85c918f44286",
   "metadata": {},
   "source": [
    "### Summary  \n",
    "\n",
    "To enhance recipe recommendations, we utilize **Word2Vec** to model ingredient relationships and **TF-IDF** to analyze textual data. The **Word2Vec model** generates semantic embeddings for ingredients, while **TF-IDF** captures important features from recipe names, tags, and descriptions.  \n",
    "\n",
    "When a user provides input, it is **tokenized**, and relevant ingredients are extracted by checking against the **Word2Vec vocabulary**. The input is also converted into a **TF-IDF vector** for textual comparison.  \n",
    "\n",
    "To determine similarity, we compute **cosine similarity** for both **Word2Vec embeddings** (ingredients) and **TF-IDF vectors** (text). The final similarity score is a **weighted combination**, giving **0.6 importance to ingredients and tags** and **0.4 to recipe names and descriptions**.  \n",
    "\n",
    "Based on this **hybrid similarity approach**, recipes are ranked, and the **top 5 most relevant recipes** are returned as recommendations.  \n"
   ]
  }
 ],
 "metadata": {
  "kernelspec": {
   "display_name": "Python 3 (ipykernel)",
   "language": "python",
   "name": "python3"
  },
  "language_info": {
   "codemirror_mode": {
    "name": "ipython",
    "version": 3
   },
   "file_extension": ".py",
   "mimetype": "text/x-python",
   "name": "python",
   "nbconvert_exporter": "python",
   "pygments_lexer": "ipython3",
   "version": "3.12.3"
  }
 },
 "nbformat": 4,
 "nbformat_minor": 5
}
